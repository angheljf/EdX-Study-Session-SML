{
 "cells": [
  {
   "cell_type": "markdown",
   "id": "8c505cfe",
   "metadata": {},
   "source": [
    "# Project: Classification - Hotel Booking Cancellation Prediction"
   ]
  },
  {
   "cell_type": "markdown",
   "id": "4e000609",
   "metadata": {
    "id": "dense-medicaid"
   },
   "source": [
    "## Context\n",
    "\n",
    "A significant number of hotel bookings are called off due to cancellations or no-shows. The typical reasons for cancellations include change of plans, scheduling conflicts, etc. This is often made easier by the option to do so free of charge or preferably at a low cost which is beneficial to hotel guests but it is a less desirable and possibly revenue-diminishing factor for hotels to deal with. Such losses are particularly high on last-minute cancellations.\n",
    "\n",
    "The new technologies involving online booking channels have dramatically changed customers' booking possibilities and behavior. This adds a further dimension to the challenge of how hotels handle cancellations, which are no longer limited to traditional booking and guest characteristics.\n",
    "\n",
    "The cancellation of bookings impact a hotel on various fronts:\n",
    "1. Loss of resources (revenue) when the hotel cannot resell the room.\n",
    "2. Additional costs of distribution channels by increasing commissions or paying for publicity to help sell these rooms.\n",
    "3. Lowering prices last minute, so the hotel can resell a room, resulting in reducing the profit margin.\n",
    "4. Human resources to make arrangements for the guests.\n",
    "\n",
    "## Objective\n",
    "\n",
    "The increasing number of cancellations calls for a Machine Learning based solution that can help in predicting which booking is likely to be canceled. INN Hotels Group has a chain of hotels in Portugal, they are facing problems with the high number of booking cancellations and have reached out to your firm for data-driven solutions. You as a data scientist have to analyze the data provided to find which factors have a high influence on booking cancellations, build a predictive model that can predict which booking is going to be canceled in advance, and help in formulating profitable policies for cancellations and refunds.\n",
    "\n",
    "\n",
    "## Data Description\n",
    "\n",
    "The data contains the different attributes of customers' booking details. The detailed data dictionary is given below.\n",
    "\n",
    "\n",
    "**Data Dictionary**\n",
    "\n",
    "* Booking_ID: unique identifier of each booking\n",
    "* no_of_adults: Number of adults\n",
    "* no_of_children: Number of Children\n",
    "* no_of_weekend_nights: Number of weekend nights (Saturday or Sunday) the guest stayed or booked to stay at the hotel\n",
    "* no_of_week_nights: Number of week nights (Monday to Friday) the guest stayed or booked to stay at the hotel\n",
    "* type_of_meal_plan: Type of meal plan booked by the customer:\n",
    "    * Not Selected – No meal plan selected\n",
    "    * Meal Plan 1 – Breakfast\n",
    "    * Meal Plan 2 – Half board (breakfast and one other meal)\n",
    "    * Meal Plan 3 – Full board (breakfast, lunch, and dinner)\n",
    "* required_car_parking_space: Does the customer require a car parking space? (0 - No, 1- Yes)\n",
    "* room_type_reserved: Type of room reserved by the customer. The values are ciphered (encoded) by INN Hotels.\n",
    "* lead_time: Number of days between the date of booking and the arrival date\n",
    "* arrival_year: Year of arrival date\n",
    "* arrival_month: Month of arrival date\n",
    "* arrival_date: Date of the month\n",
    "* market_segment_type: Market segment designation.\n",
    "* repeated_guest: Is the customer a repeated guest? (0 - No, 1- Yes)\n",
    "* no_of_previous_cancellations: Number of previous bookings that were canceled by the customer prior to the current booking\n",
    "* no_of_previous_bookings_not_canceled: Number of previous bookings not canceled by the customer prior to the current booking\n",
    "* avg_price_per_room: Average price per day of the reservation; prices of the rooms are dynamic. (in euros)\n",
    "* no_of_special_requests: Total number of special requests made by the customer (e.g. high floor, view from the room, etc)\n",
    "* booking_status: Flag indicating if the booking was canceled or not."
   ]
  },
  {
   "cell_type": "markdown",
   "id": "22f9750d",
   "metadata": {},
   "source": [
    "## Importing necessary libraries and overview of the dataset"
   ]
  },
  {
   "cell_type": "code",
   "execution_count": 1,
   "id": "f6c03e15",
   "metadata": {},
   "outputs": [],
   "source": [
    "import warnings\n",
    "warnings.filterwarnings(\"ignore\")\n",
    "\n",
    "import pandas as pd\n",
    "import numpy as np\n",
    "import matplotlib.pyplot as plt\n",
    "import seaborn as sns\n",
    "\n",
    "#To scale the data using z-score \n",
    "from sklearn.preprocessing import StandardScaler\n",
    "\n",
    "from sklearn.model_selection import train_test_split\n",
    "\n",
    "#Algorithms to use\n",
    "from sklearn.linear_model import LogisticRegression\n",
    "from sklearn.neighbors import KNeighborsClassifier\n",
    "\n",
    "#To tune the model\n",
    "from sklearn.model_selection import GridSearchCV\n",
    "\n",
    "#Metrics to evaluate the model\n",
    "from sklearn.metrics import confusion_matrix, classification_report, precision_recall_curve"
   ]
  },
  {
   "cell_type": "markdown",
   "id": "ea54241d",
   "metadata": {
    "id": "fantastic-rebel"
   },
   "source": [
    "#### Loading data"
   ]
  },
  {
   "cell_type": "code",
   "execution_count": 2,
   "id": "010e43b7",
   "metadata": {
    "id": "precious-leonard",
    "outputId": "0c8093b8-d38f-4732-b1eb-40c406b1e540"
   },
   "outputs": [],
   "source": []
  },
  {
   "cell_type": "code",
   "execution_count": 3,
   "id": "72af6a6a",
   "metadata": {
    "id": "geographic-gender",
    "outputId": "e8974753-2ac4-4e98-89e4-be262d4eb21e"
   },
   "outputs": [],
   "source": [
    "# Copying data to another variable to avoid any changes to original data\n"
   ]
  },
  {
   "cell_type": "markdown",
   "id": "26f6775e",
   "metadata": {
    "id": "convinced-blackberry"
   },
   "source": [
    "#### View the first and last 5 rows of the dataset"
   ]
  },
  {
   "cell_type": "code",
   "execution_count": 4,
   "id": "9f4eb36a",
   "metadata": {
    "id": "tested-adjustment",
    "outputId": "5a49f79c-b530-49ec-aee1-b540342ffa6a"
   },
   "outputs": [
    {
     "data": {
      "text/html": [
       "<div>\n",
       "<style scoped>\n",
       "    .dataframe tbody tr th:only-of-type {\n",
       "        vertical-align: middle;\n",
       "    }\n",
       "\n",
       "    .dataframe tbody tr th {\n",
       "        vertical-align: top;\n",
       "    }\n",
       "\n",
       "    .dataframe thead th {\n",
       "        text-align: right;\n",
       "    }\n",
       "</style>\n",
       "<table border=\"1\" class=\"dataframe\">\n",
       "  <thead>\n",
       "    <tr style=\"text-align: right;\">\n",
       "      <th></th>\n",
       "      <th>Booking_ID</th>\n",
       "      <th>no_of_adults</th>\n",
       "      <th>no_of_children</th>\n",
       "      <th>no_of_weekend_nights</th>\n",
       "      <th>no_of_week_nights</th>\n",
       "      <th>type_of_meal_plan</th>\n",
       "      <th>required_car_parking_space</th>\n",
       "      <th>room_type_reserved</th>\n",
       "      <th>lead_time</th>\n",
       "      <th>arrival_year</th>\n",
       "      <th>arrival_month</th>\n",
       "      <th>arrival_date</th>\n",
       "      <th>market_segment_type</th>\n",
       "      <th>repeated_guest</th>\n",
       "      <th>no_of_previous_cancellations</th>\n",
       "      <th>no_of_previous_bookings_not_canceled</th>\n",
       "      <th>avg_price_per_room</th>\n",
       "      <th>no_of_special_requests</th>\n",
       "      <th>booking_status</th>\n",
       "    </tr>\n",
       "  </thead>\n",
       "  <tbody>\n",
       "    <tr>\n",
       "      <th>0</th>\n",
       "      <td>INN00001</td>\n",
       "      <td>2</td>\n",
       "      <td>0</td>\n",
       "      <td>1</td>\n",
       "      <td>2</td>\n",
       "      <td>Meal Plan 1</td>\n",
       "      <td>0</td>\n",
       "      <td>Room_Type 1</td>\n",
       "      <td>224</td>\n",
       "      <td>2017</td>\n",
       "      <td>10</td>\n",
       "      <td>2</td>\n",
       "      <td>Offline</td>\n",
       "      <td>0</td>\n",
       "      <td>0</td>\n",
       "      <td>0</td>\n",
       "      <td>65.00</td>\n",
       "      <td>0</td>\n",
       "      <td>Not_Canceled</td>\n",
       "    </tr>\n",
       "    <tr>\n",
       "      <th>1</th>\n",
       "      <td>INN00002</td>\n",
       "      <td>2</td>\n",
       "      <td>0</td>\n",
       "      <td>2</td>\n",
       "      <td>3</td>\n",
       "      <td>Not Selected</td>\n",
       "      <td>0</td>\n",
       "      <td>Room_Type 1</td>\n",
       "      <td>5</td>\n",
       "      <td>2018</td>\n",
       "      <td>11</td>\n",
       "      <td>6</td>\n",
       "      <td>Online</td>\n",
       "      <td>0</td>\n",
       "      <td>0</td>\n",
       "      <td>0</td>\n",
       "      <td>106.68</td>\n",
       "      <td>1</td>\n",
       "      <td>Not_Canceled</td>\n",
       "    </tr>\n",
       "    <tr>\n",
       "      <th>2</th>\n",
       "      <td>INN00003</td>\n",
       "      <td>1</td>\n",
       "      <td>0</td>\n",
       "      <td>2</td>\n",
       "      <td>1</td>\n",
       "      <td>Meal Plan 1</td>\n",
       "      <td>0</td>\n",
       "      <td>Room_Type 1</td>\n",
       "      <td>1</td>\n",
       "      <td>2018</td>\n",
       "      <td>2</td>\n",
       "      <td>28</td>\n",
       "      <td>Online</td>\n",
       "      <td>0</td>\n",
       "      <td>0</td>\n",
       "      <td>0</td>\n",
       "      <td>60.00</td>\n",
       "      <td>0</td>\n",
       "      <td>Canceled</td>\n",
       "    </tr>\n",
       "    <tr>\n",
       "      <th>3</th>\n",
       "      <td>INN00004</td>\n",
       "      <td>2</td>\n",
       "      <td>0</td>\n",
       "      <td>0</td>\n",
       "      <td>2</td>\n",
       "      <td>Meal Plan 1</td>\n",
       "      <td>0</td>\n",
       "      <td>Room_Type 1</td>\n",
       "      <td>211</td>\n",
       "      <td>2018</td>\n",
       "      <td>5</td>\n",
       "      <td>20</td>\n",
       "      <td>Online</td>\n",
       "      <td>0</td>\n",
       "      <td>0</td>\n",
       "      <td>0</td>\n",
       "      <td>100.00</td>\n",
       "      <td>0</td>\n",
       "      <td>Canceled</td>\n",
       "    </tr>\n",
       "    <tr>\n",
       "      <th>4</th>\n",
       "      <td>INN00005</td>\n",
       "      <td>2</td>\n",
       "      <td>0</td>\n",
       "      <td>1</td>\n",
       "      <td>1</td>\n",
       "      <td>Not Selected</td>\n",
       "      <td>0</td>\n",
       "      <td>Room_Type 1</td>\n",
       "      <td>48</td>\n",
       "      <td>2018</td>\n",
       "      <td>4</td>\n",
       "      <td>11</td>\n",
       "      <td>Online</td>\n",
       "      <td>0</td>\n",
       "      <td>0</td>\n",
       "      <td>0</td>\n",
       "      <td>94.50</td>\n",
       "      <td>0</td>\n",
       "      <td>Canceled</td>\n",
       "    </tr>\n",
       "  </tbody>\n",
       "</table>\n",
       "</div>"
      ],
      "text/plain": [
       "  Booking_ID  no_of_adults  no_of_children  no_of_weekend_nights  \\\n",
       "0   INN00001             2               0                     1   \n",
       "1   INN00002             2               0                     2   \n",
       "2   INN00003             1               0                     2   \n",
       "3   INN00004             2               0                     0   \n",
       "4   INN00005             2               0                     1   \n",
       "\n",
       "   no_of_week_nights type_of_meal_plan  required_car_parking_space  \\\n",
       "0                  2       Meal Plan 1                           0   \n",
       "1                  3      Not Selected                           0   \n",
       "2                  1       Meal Plan 1                           0   \n",
       "3                  2       Meal Plan 1                           0   \n",
       "4                  1      Not Selected                           0   \n",
       "\n",
       "  room_type_reserved  lead_time  arrival_year  arrival_month  arrival_date  \\\n",
       "0        Room_Type 1        224          2017             10             2   \n",
       "1        Room_Type 1          5          2018             11             6   \n",
       "2        Room_Type 1          1          2018              2            28   \n",
       "3        Room_Type 1        211          2018              5            20   \n",
       "4        Room_Type 1         48          2018              4            11   \n",
       "\n",
       "  market_segment_type  repeated_guest  no_of_previous_cancellations  \\\n",
       "0             Offline               0                             0   \n",
       "1              Online               0                             0   \n",
       "2              Online               0                             0   \n",
       "3              Online               0                             0   \n",
       "4              Online               0                             0   \n",
       "\n",
       "   no_of_previous_bookings_not_canceled  avg_price_per_room  \\\n",
       "0                                     0               65.00   \n",
       "1                                     0              106.68   \n",
       "2                                     0               60.00   \n",
       "3                                     0              100.00   \n",
       "4                                     0               94.50   \n",
       "\n",
       "   no_of_special_requests booking_status  \n",
       "0                       0   Not_Canceled  \n",
       "1                       1   Not_Canceled  \n",
       "2                       0       Canceled  \n",
       "3                       0       Canceled  \n",
       "4                       0       Canceled  "
      ]
     },
     "execution_count": 4,
     "metadata": {},
     "output_type": "execute_result"
    }
   ],
   "source": []
  },
  {
   "cell_type": "code",
   "execution_count": 5,
   "id": "1d91c24a",
   "metadata": {
    "id": "demonstrated-charger",
    "outputId": "0771f554-108a-4473-c622-8135ad412e3f"
   },
   "outputs": [
    {
     "data": {
      "text/html": [
       "<div>\n",
       "<style scoped>\n",
       "    .dataframe tbody tr th:only-of-type {\n",
       "        vertical-align: middle;\n",
       "    }\n",
       "\n",
       "    .dataframe tbody tr th {\n",
       "        vertical-align: top;\n",
       "    }\n",
       "\n",
       "    .dataframe thead th {\n",
       "        text-align: right;\n",
       "    }\n",
       "</style>\n",
       "<table border=\"1\" class=\"dataframe\">\n",
       "  <thead>\n",
       "    <tr style=\"text-align: right;\">\n",
       "      <th></th>\n",
       "      <th>Booking_ID</th>\n",
       "      <th>no_of_adults</th>\n",
       "      <th>no_of_children</th>\n",
       "      <th>no_of_weekend_nights</th>\n",
       "      <th>no_of_week_nights</th>\n",
       "      <th>type_of_meal_plan</th>\n",
       "      <th>required_car_parking_space</th>\n",
       "      <th>room_type_reserved</th>\n",
       "      <th>lead_time</th>\n",
       "      <th>arrival_year</th>\n",
       "      <th>arrival_month</th>\n",
       "      <th>arrival_date</th>\n",
       "      <th>market_segment_type</th>\n",
       "      <th>repeated_guest</th>\n",
       "      <th>no_of_previous_cancellations</th>\n",
       "      <th>no_of_previous_bookings_not_canceled</th>\n",
       "      <th>avg_price_per_room</th>\n",
       "      <th>no_of_special_requests</th>\n",
       "      <th>booking_status</th>\n",
       "    </tr>\n",
       "  </thead>\n",
       "  <tbody>\n",
       "    <tr>\n",
       "      <th>36270</th>\n",
       "      <td>INN36271</td>\n",
       "      <td>3</td>\n",
       "      <td>0</td>\n",
       "      <td>2</td>\n",
       "      <td>6</td>\n",
       "      <td>Meal Plan 1</td>\n",
       "      <td>0</td>\n",
       "      <td>Room_Type 4</td>\n",
       "      <td>85</td>\n",
       "      <td>2018</td>\n",
       "      <td>8</td>\n",
       "      <td>3</td>\n",
       "      <td>Online</td>\n",
       "      <td>0</td>\n",
       "      <td>0</td>\n",
       "      <td>0</td>\n",
       "      <td>167.80</td>\n",
       "      <td>1</td>\n",
       "      <td>Not_Canceled</td>\n",
       "    </tr>\n",
       "    <tr>\n",
       "      <th>36271</th>\n",
       "      <td>INN36272</td>\n",
       "      <td>2</td>\n",
       "      <td>0</td>\n",
       "      <td>1</td>\n",
       "      <td>3</td>\n",
       "      <td>Meal Plan 1</td>\n",
       "      <td>0</td>\n",
       "      <td>Room_Type 1</td>\n",
       "      <td>228</td>\n",
       "      <td>2018</td>\n",
       "      <td>10</td>\n",
       "      <td>17</td>\n",
       "      <td>Online</td>\n",
       "      <td>0</td>\n",
       "      <td>0</td>\n",
       "      <td>0</td>\n",
       "      <td>90.95</td>\n",
       "      <td>2</td>\n",
       "      <td>Canceled</td>\n",
       "    </tr>\n",
       "    <tr>\n",
       "      <th>36272</th>\n",
       "      <td>INN36273</td>\n",
       "      <td>2</td>\n",
       "      <td>0</td>\n",
       "      <td>2</td>\n",
       "      <td>6</td>\n",
       "      <td>Meal Plan 1</td>\n",
       "      <td>0</td>\n",
       "      <td>Room_Type 1</td>\n",
       "      <td>148</td>\n",
       "      <td>2018</td>\n",
       "      <td>7</td>\n",
       "      <td>1</td>\n",
       "      <td>Online</td>\n",
       "      <td>0</td>\n",
       "      <td>0</td>\n",
       "      <td>0</td>\n",
       "      <td>98.39</td>\n",
       "      <td>2</td>\n",
       "      <td>Not_Canceled</td>\n",
       "    </tr>\n",
       "    <tr>\n",
       "      <th>36273</th>\n",
       "      <td>INN36274</td>\n",
       "      <td>2</td>\n",
       "      <td>0</td>\n",
       "      <td>0</td>\n",
       "      <td>3</td>\n",
       "      <td>Not Selected</td>\n",
       "      <td>0</td>\n",
       "      <td>Room_Type 1</td>\n",
       "      <td>63</td>\n",
       "      <td>2018</td>\n",
       "      <td>4</td>\n",
       "      <td>21</td>\n",
       "      <td>Online</td>\n",
       "      <td>0</td>\n",
       "      <td>0</td>\n",
       "      <td>0</td>\n",
       "      <td>94.50</td>\n",
       "      <td>0</td>\n",
       "      <td>Canceled</td>\n",
       "    </tr>\n",
       "    <tr>\n",
       "      <th>36274</th>\n",
       "      <td>INN36275</td>\n",
       "      <td>2</td>\n",
       "      <td>0</td>\n",
       "      <td>1</td>\n",
       "      <td>2</td>\n",
       "      <td>Meal Plan 1</td>\n",
       "      <td>0</td>\n",
       "      <td>Room_Type 1</td>\n",
       "      <td>207</td>\n",
       "      <td>2018</td>\n",
       "      <td>12</td>\n",
       "      <td>30</td>\n",
       "      <td>Offline</td>\n",
       "      <td>0</td>\n",
       "      <td>0</td>\n",
       "      <td>0</td>\n",
       "      <td>161.67</td>\n",
       "      <td>0</td>\n",
       "      <td>Not_Canceled</td>\n",
       "    </tr>\n",
       "  </tbody>\n",
       "</table>\n",
       "</div>"
      ],
      "text/plain": [
       "      Booking_ID  no_of_adults  no_of_children  no_of_weekend_nights  \\\n",
       "36270   INN36271             3               0                     2   \n",
       "36271   INN36272             2               0                     1   \n",
       "36272   INN36273             2               0                     2   \n",
       "36273   INN36274             2               0                     0   \n",
       "36274   INN36275             2               0                     1   \n",
       "\n",
       "       no_of_week_nights type_of_meal_plan  required_car_parking_space  \\\n",
       "36270                  6       Meal Plan 1                           0   \n",
       "36271                  3       Meal Plan 1                           0   \n",
       "36272                  6       Meal Plan 1                           0   \n",
       "36273                  3      Not Selected                           0   \n",
       "36274                  2       Meal Plan 1                           0   \n",
       "\n",
       "      room_type_reserved  lead_time  arrival_year  arrival_month  \\\n",
       "36270        Room_Type 4         85          2018              8   \n",
       "36271        Room_Type 1        228          2018             10   \n",
       "36272        Room_Type 1        148          2018              7   \n",
       "36273        Room_Type 1         63          2018              4   \n",
       "36274        Room_Type 1        207          2018             12   \n",
       "\n",
       "       arrival_date market_segment_type  repeated_guest  \\\n",
       "36270             3              Online               0   \n",
       "36271            17              Online               0   \n",
       "36272             1              Online               0   \n",
       "36273            21              Online               0   \n",
       "36274            30             Offline               0   \n",
       "\n",
       "       no_of_previous_cancellations  no_of_previous_bookings_not_canceled  \\\n",
       "36270                             0                                     0   \n",
       "36271                             0                                     0   \n",
       "36272                             0                                     0   \n",
       "36273                             0                                     0   \n",
       "36274                             0                                     0   \n",
       "\n",
       "       avg_price_per_room  no_of_special_requests booking_status  \n",
       "36270              167.80                       1   Not_Canceled  \n",
       "36271               90.95                       2       Canceled  \n",
       "36272               98.39                       2   Not_Canceled  \n",
       "36273               94.50                       0       Canceled  \n",
       "36274              161.67                       0   Not_Canceled  "
      ]
     },
     "execution_count": 5,
     "metadata": {},
     "output_type": "execute_result"
    }
   ],
   "source": []
  },
  {
   "cell_type": "markdown",
   "id": "b6a96849",
   "metadata": {
    "id": "creative-warner"
   },
   "source": [
    "#### Check the info of the data"
   ]
  },
  {
   "cell_type": "code",
   "execution_count": 6,
   "id": "9600625d",
   "metadata": {
    "id": "expanded-technique",
    "outputId": "a96250c8-79f8-4a28-d671-5849b398180a"
   },
   "outputs": [
    {
     "name": "stdout",
     "output_type": "stream",
     "text": [
      "<class 'pandas.core.frame.DataFrame'>\n",
      "RangeIndex: 36275 entries, 0 to 36274\n",
      "Data columns (total 19 columns):\n",
      " #   Column                                Non-Null Count  Dtype  \n",
      "---  ------                                --------------  -----  \n",
      " 0   Booking_ID                            36275 non-null  object \n",
      " 1   no_of_adults                          36275 non-null  int64  \n",
      " 2   no_of_children                        36275 non-null  int64  \n",
      " 3   no_of_weekend_nights                  36275 non-null  int64  \n",
      " 4   no_of_week_nights                     36275 non-null  int64  \n",
      " 5   type_of_meal_plan                     36275 non-null  object \n",
      " 6   required_car_parking_space            36275 non-null  int64  \n",
      " 7   room_type_reserved                    36275 non-null  object \n",
      " 8   lead_time                             36275 non-null  int64  \n",
      " 9   arrival_year                          36275 non-null  int64  \n",
      " 10  arrival_month                         36275 non-null  int64  \n",
      " 11  arrival_date                          36275 non-null  int64  \n",
      " 12  market_segment_type                   36275 non-null  object \n",
      " 13  repeated_guest                        36275 non-null  int64  \n",
      " 14  no_of_previous_cancellations          36275 non-null  int64  \n",
      " 15  no_of_previous_bookings_not_canceled  36275 non-null  int64  \n",
      " 16  avg_price_per_room                    36275 non-null  float64\n",
      " 17  no_of_special_requests                36275 non-null  int64  \n",
      " 18  booking_status                        36275 non-null  object \n",
      "dtypes: float64(1), int64(13), object(5)\n",
      "memory usage: 5.3+ MB\n"
     ]
    }
   ],
   "source": []
  },
  {
   "cell_type": "markdown",
   "id": "91bfa6ab",
   "metadata": {
    "id": "august-hopkins"
   },
   "source": [
    "* The dataset has **36,275 rows and 19 columns**. \n",
    "\n",
    "* `Booking_ID`, `type_of_meal_plan`, `room_type_reserved`, `market_segment_type`, and `booking_status` are of **object type** while rest columns are numeric in nature.\n",
    "\n",
    "* There are **no null values** in the dataset.\n",
    "\n",
    "* **Booking_ID column is an identifier**. Let's check if each entry of the column is unique."
   ]
  },
  {
   "cell_type": "code",
   "execution_count": 7,
   "id": "f7bd7365",
   "metadata": {},
   "outputs": [
    {
     "data": {
      "text/plain": [
       "36275"
      ]
     },
     "execution_count": 7,
     "metadata": {},
     "output_type": "execute_result"
    }
   ],
   "source": []
  },
  {
   "cell_type": "markdown",
   "id": "b10e9af2",
   "metadata": {},
   "source": [
    "**Observations:**\n",
    "- We can see that **all the entries of this column are unique**. Hence, this column would not add any value to our analysis. \n",
    "- Let's drop this column."
   ]
  },
  {
   "cell_type": "markdown",
   "id": "873a943f",
   "metadata": {},
   "source": [
    "#### Dropping the Booking_ID column"
   ]
  },
  {
   "cell_type": "code",
   "execution_count": 8,
   "id": "1ffd1915",
   "metadata": {
    "id": "referenced-architect",
    "outputId": "eb67111f-ebae-433c-fc96-f7aeba9c1826"
   },
   "outputs": [],
   "source": []
  },
  {
   "cell_type": "code",
   "execution_count": 9,
   "id": "91460533",
   "metadata": {},
   "outputs": [
    {
     "data": {
      "text/html": [
       "<div>\n",
       "<style scoped>\n",
       "    .dataframe tbody tr th:only-of-type {\n",
       "        vertical-align: middle;\n",
       "    }\n",
       "\n",
       "    .dataframe tbody tr th {\n",
       "        vertical-align: top;\n",
       "    }\n",
       "\n",
       "    .dataframe thead th {\n",
       "        text-align: right;\n",
       "    }\n",
       "</style>\n",
       "<table border=\"1\" class=\"dataframe\">\n",
       "  <thead>\n",
       "    <tr style=\"text-align: right;\">\n",
       "      <th></th>\n",
       "      <th>no_of_adults</th>\n",
       "      <th>no_of_children</th>\n",
       "      <th>no_of_weekend_nights</th>\n",
       "      <th>no_of_week_nights</th>\n",
       "      <th>type_of_meal_plan</th>\n",
       "      <th>required_car_parking_space</th>\n",
       "      <th>room_type_reserved</th>\n",
       "      <th>lead_time</th>\n",
       "      <th>arrival_year</th>\n",
       "      <th>arrival_month</th>\n",
       "      <th>arrival_date</th>\n",
       "      <th>market_segment_type</th>\n",
       "      <th>repeated_guest</th>\n",
       "      <th>no_of_previous_cancellations</th>\n",
       "      <th>no_of_previous_bookings_not_canceled</th>\n",
       "      <th>avg_price_per_room</th>\n",
       "      <th>no_of_special_requests</th>\n",
       "      <th>booking_status</th>\n",
       "    </tr>\n",
       "  </thead>\n",
       "  <tbody>\n",
       "    <tr>\n",
       "      <th>0</th>\n",
       "      <td>2</td>\n",
       "      <td>0</td>\n",
       "      <td>1</td>\n",
       "      <td>2</td>\n",
       "      <td>Meal Plan 1</td>\n",
       "      <td>0</td>\n",
       "      <td>Room_Type 1</td>\n",
       "      <td>224</td>\n",
       "      <td>2017</td>\n",
       "      <td>10</td>\n",
       "      <td>2</td>\n",
       "      <td>Offline</td>\n",
       "      <td>0</td>\n",
       "      <td>0</td>\n",
       "      <td>0</td>\n",
       "      <td>65.00</td>\n",
       "      <td>0</td>\n",
       "      <td>Not_Canceled</td>\n",
       "    </tr>\n",
       "    <tr>\n",
       "      <th>1</th>\n",
       "      <td>2</td>\n",
       "      <td>0</td>\n",
       "      <td>2</td>\n",
       "      <td>3</td>\n",
       "      <td>Not Selected</td>\n",
       "      <td>0</td>\n",
       "      <td>Room_Type 1</td>\n",
       "      <td>5</td>\n",
       "      <td>2018</td>\n",
       "      <td>11</td>\n",
       "      <td>6</td>\n",
       "      <td>Online</td>\n",
       "      <td>0</td>\n",
       "      <td>0</td>\n",
       "      <td>0</td>\n",
       "      <td>106.68</td>\n",
       "      <td>1</td>\n",
       "      <td>Not_Canceled</td>\n",
       "    </tr>\n",
       "    <tr>\n",
       "      <th>2</th>\n",
       "      <td>1</td>\n",
       "      <td>0</td>\n",
       "      <td>2</td>\n",
       "      <td>1</td>\n",
       "      <td>Meal Plan 1</td>\n",
       "      <td>0</td>\n",
       "      <td>Room_Type 1</td>\n",
       "      <td>1</td>\n",
       "      <td>2018</td>\n",
       "      <td>2</td>\n",
       "      <td>28</td>\n",
       "      <td>Online</td>\n",
       "      <td>0</td>\n",
       "      <td>0</td>\n",
       "      <td>0</td>\n",
       "      <td>60.00</td>\n",
       "      <td>0</td>\n",
       "      <td>Canceled</td>\n",
       "    </tr>\n",
       "    <tr>\n",
       "      <th>3</th>\n",
       "      <td>2</td>\n",
       "      <td>0</td>\n",
       "      <td>0</td>\n",
       "      <td>2</td>\n",
       "      <td>Meal Plan 1</td>\n",
       "      <td>0</td>\n",
       "      <td>Room_Type 1</td>\n",
       "      <td>211</td>\n",
       "      <td>2018</td>\n",
       "      <td>5</td>\n",
       "      <td>20</td>\n",
       "      <td>Online</td>\n",
       "      <td>0</td>\n",
       "      <td>0</td>\n",
       "      <td>0</td>\n",
       "      <td>100.00</td>\n",
       "      <td>0</td>\n",
       "      <td>Canceled</td>\n",
       "    </tr>\n",
       "    <tr>\n",
       "      <th>4</th>\n",
       "      <td>2</td>\n",
       "      <td>0</td>\n",
       "      <td>1</td>\n",
       "      <td>1</td>\n",
       "      <td>Not Selected</td>\n",
       "      <td>0</td>\n",
       "      <td>Room_Type 1</td>\n",
       "      <td>48</td>\n",
       "      <td>2018</td>\n",
       "      <td>4</td>\n",
       "      <td>11</td>\n",
       "      <td>Online</td>\n",
       "      <td>0</td>\n",
       "      <td>0</td>\n",
       "      <td>0</td>\n",
       "      <td>94.50</td>\n",
       "      <td>0</td>\n",
       "      <td>Canceled</td>\n",
       "    </tr>\n",
       "  </tbody>\n",
       "</table>\n",
       "</div>"
      ],
      "text/plain": [
       "   no_of_adults  no_of_children  no_of_weekend_nights  no_of_week_nights  \\\n",
       "0             2               0                     1                  2   \n",
       "1             2               0                     2                  3   \n",
       "2             1               0                     2                  1   \n",
       "3             2               0                     0                  2   \n",
       "4             2               0                     1                  1   \n",
       "\n",
       "  type_of_meal_plan  required_car_parking_space room_type_reserved  lead_time  \\\n",
       "0       Meal Plan 1                           0        Room_Type 1        224   \n",
       "1      Not Selected                           0        Room_Type 1          5   \n",
       "2       Meal Plan 1                           0        Room_Type 1          1   \n",
       "3       Meal Plan 1                           0        Room_Type 1        211   \n",
       "4      Not Selected                           0        Room_Type 1         48   \n",
       "\n",
       "   arrival_year  arrival_month  arrival_date market_segment_type  \\\n",
       "0          2017             10             2             Offline   \n",
       "1          2018             11             6              Online   \n",
       "2          2018              2            28              Online   \n",
       "3          2018              5            20              Online   \n",
       "4          2018              4            11              Online   \n",
       "\n",
       "   repeated_guest  no_of_previous_cancellations  \\\n",
       "0               0                             0   \n",
       "1               0                             0   \n",
       "2               0                             0   \n",
       "3               0                             0   \n",
       "4               0                             0   \n",
       "\n",
       "   no_of_previous_bookings_not_canceled  avg_price_per_room  \\\n",
       "0                                     0               65.00   \n",
       "1                                     0              106.68   \n",
       "2                                     0               60.00   \n",
       "3                                     0              100.00   \n",
       "4                                     0               94.50   \n",
       "\n",
       "   no_of_special_requests booking_status  \n",
       "0                       0   Not_Canceled  \n",
       "1                       1   Not_Canceled  \n",
       "2                       0       Canceled  \n",
       "3                       0       Canceled  \n",
       "4                       0       Canceled  "
      ]
     },
     "execution_count": 9,
     "metadata": {},
     "output_type": "execute_result"
    }
   ],
   "source": []
  },
  {
   "cell_type": "markdown",
   "id": "f4504b9f",
   "metadata": {
    "id": "realistic-mortgage"
   },
   "source": [
    "## Exploratory Data Analysis"
   ]
  },
  {
   "cell_type": "markdown",
   "id": "7cda2a6e",
   "metadata": {
    "id": "seeing-newman"
   },
   "source": [
    "#### Summary Statistics for numerical columns"
   ]
  },
  {
   "cell_type": "markdown",
   "id": "baa093ca",
   "metadata": {},
   "source": [
    "#### Question 1: Write the observations from the below summary statistics (2 Marks)"
   ]
  },
  {
   "cell_type": "code",
   "execution_count": 10,
   "id": "408affdb",
   "metadata": {},
   "outputs": [
    {
     "data": {
      "text/html": [
       "<div>\n",
       "<style scoped>\n",
       "    .dataframe tbody tr th:only-of-type {\n",
       "        vertical-align: middle;\n",
       "    }\n",
       "\n",
       "    .dataframe tbody tr th {\n",
       "        vertical-align: top;\n",
       "    }\n",
       "\n",
       "    .dataframe thead th {\n",
       "        text-align: right;\n",
       "    }\n",
       "</style>\n",
       "<table border=\"1\" class=\"dataframe\">\n",
       "  <thead>\n",
       "    <tr style=\"text-align: right;\">\n",
       "      <th></th>\n",
       "      <th>count</th>\n",
       "      <th>mean</th>\n",
       "      <th>std</th>\n",
       "      <th>min</th>\n",
       "      <th>25%</th>\n",
       "      <th>50%</th>\n",
       "      <th>75%</th>\n",
       "      <th>max</th>\n",
       "    </tr>\n",
       "  </thead>\n",
       "  <tbody>\n",
       "    <tr>\n",
       "      <th>no_of_adults</th>\n",
       "      <td>36275.0</td>\n",
       "      <td>1.844962</td>\n",
       "      <td>0.518715</td>\n",
       "      <td>0.0</td>\n",
       "      <td>2.0</td>\n",
       "      <td>2.00</td>\n",
       "      <td>2.0</td>\n",
       "      <td>4.0</td>\n",
       "    </tr>\n",
       "    <tr>\n",
       "      <th>no_of_children</th>\n",
       "      <td>36275.0</td>\n",
       "      <td>0.105279</td>\n",
       "      <td>0.402648</td>\n",
       "      <td>0.0</td>\n",
       "      <td>0.0</td>\n",
       "      <td>0.00</td>\n",
       "      <td>0.0</td>\n",
       "      <td>10.0</td>\n",
       "    </tr>\n",
       "    <tr>\n",
       "      <th>no_of_weekend_nights</th>\n",
       "      <td>36275.0</td>\n",
       "      <td>0.810724</td>\n",
       "      <td>0.870644</td>\n",
       "      <td>0.0</td>\n",
       "      <td>0.0</td>\n",
       "      <td>1.00</td>\n",
       "      <td>2.0</td>\n",
       "      <td>7.0</td>\n",
       "    </tr>\n",
       "    <tr>\n",
       "      <th>no_of_week_nights</th>\n",
       "      <td>36275.0</td>\n",
       "      <td>2.204300</td>\n",
       "      <td>1.410905</td>\n",
       "      <td>0.0</td>\n",
       "      <td>1.0</td>\n",
       "      <td>2.00</td>\n",
       "      <td>3.0</td>\n",
       "      <td>17.0</td>\n",
       "    </tr>\n",
       "    <tr>\n",
       "      <th>required_car_parking_space</th>\n",
       "      <td>36275.0</td>\n",
       "      <td>0.030986</td>\n",
       "      <td>0.173281</td>\n",
       "      <td>0.0</td>\n",
       "      <td>0.0</td>\n",
       "      <td>0.00</td>\n",
       "      <td>0.0</td>\n",
       "      <td>1.0</td>\n",
       "    </tr>\n",
       "    <tr>\n",
       "      <th>lead_time</th>\n",
       "      <td>36275.0</td>\n",
       "      <td>85.232557</td>\n",
       "      <td>85.930817</td>\n",
       "      <td>0.0</td>\n",
       "      <td>17.0</td>\n",
       "      <td>57.00</td>\n",
       "      <td>126.0</td>\n",
       "      <td>443.0</td>\n",
       "    </tr>\n",
       "    <tr>\n",
       "      <th>arrival_year</th>\n",
       "      <td>36275.0</td>\n",
       "      <td>2017.820427</td>\n",
       "      <td>0.383836</td>\n",
       "      <td>2017.0</td>\n",
       "      <td>2018.0</td>\n",
       "      <td>2018.00</td>\n",
       "      <td>2018.0</td>\n",
       "      <td>2018.0</td>\n",
       "    </tr>\n",
       "    <tr>\n",
       "      <th>arrival_month</th>\n",
       "      <td>36275.0</td>\n",
       "      <td>7.423653</td>\n",
       "      <td>3.069894</td>\n",
       "      <td>1.0</td>\n",
       "      <td>5.0</td>\n",
       "      <td>8.00</td>\n",
       "      <td>10.0</td>\n",
       "      <td>12.0</td>\n",
       "    </tr>\n",
       "    <tr>\n",
       "      <th>arrival_date</th>\n",
       "      <td>36275.0</td>\n",
       "      <td>15.596995</td>\n",
       "      <td>8.740447</td>\n",
       "      <td>1.0</td>\n",
       "      <td>8.0</td>\n",
       "      <td>16.00</td>\n",
       "      <td>23.0</td>\n",
       "      <td>31.0</td>\n",
       "    </tr>\n",
       "    <tr>\n",
       "      <th>repeated_guest</th>\n",
       "      <td>36275.0</td>\n",
       "      <td>0.025637</td>\n",
       "      <td>0.158053</td>\n",
       "      <td>0.0</td>\n",
       "      <td>0.0</td>\n",
       "      <td>0.00</td>\n",
       "      <td>0.0</td>\n",
       "      <td>1.0</td>\n",
       "    </tr>\n",
       "    <tr>\n",
       "      <th>no_of_previous_cancellations</th>\n",
       "      <td>36275.0</td>\n",
       "      <td>0.023349</td>\n",
       "      <td>0.368331</td>\n",
       "      <td>0.0</td>\n",
       "      <td>0.0</td>\n",
       "      <td>0.00</td>\n",
       "      <td>0.0</td>\n",
       "      <td>13.0</td>\n",
       "    </tr>\n",
       "    <tr>\n",
       "      <th>no_of_previous_bookings_not_canceled</th>\n",
       "      <td>36275.0</td>\n",
       "      <td>0.153411</td>\n",
       "      <td>1.754171</td>\n",
       "      <td>0.0</td>\n",
       "      <td>0.0</td>\n",
       "      <td>0.00</td>\n",
       "      <td>0.0</td>\n",
       "      <td>58.0</td>\n",
       "    </tr>\n",
       "    <tr>\n",
       "      <th>avg_price_per_room</th>\n",
       "      <td>36275.0</td>\n",
       "      <td>103.423539</td>\n",
       "      <td>35.089424</td>\n",
       "      <td>0.0</td>\n",
       "      <td>80.3</td>\n",
       "      <td>99.45</td>\n",
       "      <td>120.0</td>\n",
       "      <td>540.0</td>\n",
       "    </tr>\n",
       "    <tr>\n",
       "      <th>no_of_special_requests</th>\n",
       "      <td>36275.0</td>\n",
       "      <td>0.619655</td>\n",
       "      <td>0.786236</td>\n",
       "      <td>0.0</td>\n",
       "      <td>0.0</td>\n",
       "      <td>0.00</td>\n",
       "      <td>1.0</td>\n",
       "      <td>5.0</td>\n",
       "    </tr>\n",
       "  </tbody>\n",
       "</table>\n",
       "</div>"
      ],
      "text/plain": [
       "                                        count         mean        std     min  \\\n",
       "no_of_adults                          36275.0     1.844962   0.518715     0.0   \n",
       "no_of_children                        36275.0     0.105279   0.402648     0.0   \n",
       "no_of_weekend_nights                  36275.0     0.810724   0.870644     0.0   \n",
       "no_of_week_nights                     36275.0     2.204300   1.410905     0.0   \n",
       "required_car_parking_space            36275.0     0.030986   0.173281     0.0   \n",
       "lead_time                             36275.0    85.232557  85.930817     0.0   \n",
       "arrival_year                          36275.0  2017.820427   0.383836  2017.0   \n",
       "arrival_month                         36275.0     7.423653   3.069894     1.0   \n",
       "arrival_date                          36275.0    15.596995   8.740447     1.0   \n",
       "repeated_guest                        36275.0     0.025637   0.158053     0.0   \n",
       "no_of_previous_cancellations          36275.0     0.023349   0.368331     0.0   \n",
       "no_of_previous_bookings_not_canceled  36275.0     0.153411   1.754171     0.0   \n",
       "avg_price_per_room                    36275.0   103.423539  35.089424     0.0   \n",
       "no_of_special_requests                36275.0     0.619655   0.786236     0.0   \n",
       "\n",
       "                                         25%      50%     75%     max  \n",
       "no_of_adults                             2.0     2.00     2.0     4.0  \n",
       "no_of_children                           0.0     0.00     0.0    10.0  \n",
       "no_of_weekend_nights                     0.0     1.00     2.0     7.0  \n",
       "no_of_week_nights                        1.0     2.00     3.0    17.0  \n",
       "required_car_parking_space               0.0     0.00     0.0     1.0  \n",
       "lead_time                               17.0    57.00   126.0   443.0  \n",
       "arrival_year                          2018.0  2018.00  2018.0  2018.0  \n",
       "arrival_month                            5.0     8.00    10.0    12.0  \n",
       "arrival_date                             8.0    16.00    23.0    31.0  \n",
       "repeated_guest                           0.0     0.00     0.0     1.0  \n",
       "no_of_previous_cancellations             0.0     0.00     0.0    13.0  \n",
       "no_of_previous_bookings_not_canceled     0.0     0.00     0.0    58.0  \n",
       "avg_price_per_room                      80.3    99.45   120.0   540.0  \n",
       "no_of_special_requests                   0.0     0.00     1.0     5.0  "
      ]
     },
     "execution_count": 10,
     "metadata": {},
     "output_type": "execute_result"
    }
   ],
   "source": [
    "# Selecting numerical columns and checking summary statistics\n"
   ]
  },
  {
   "cell_type": "markdown",
   "id": "abf8dfd0",
   "metadata": {},
   "source": [
    "**Observations:**\n",
    "\n",
    "- The average price per room is $103.42.\n",
    "- The average number of week nights (2.20) is greater than the average number of weekend nights (0.81)."
   ]
  },
  {
   "cell_type": "code",
   "execution_count": 11,
   "id": "390628c0",
   "metadata": {},
   "outputs": [
    {
     "data": {
      "text/html": [
       "<div>\n",
       "<style scoped>\n",
       "    .dataframe tbody tr th:only-of-type {\n",
       "        vertical-align: middle;\n",
       "    }\n",
       "\n",
       "    .dataframe tbody tr th {\n",
       "        vertical-align: top;\n",
       "    }\n",
       "\n",
       "    .dataframe thead th {\n",
       "        text-align: right;\n",
       "    }\n",
       "</style>\n",
       "<table border=\"1\" class=\"dataframe\">\n",
       "  <thead>\n",
       "    <tr style=\"text-align: right;\">\n",
       "      <th></th>\n",
       "      <th>no_of_adults</th>\n",
       "      <th>no_of_children</th>\n",
       "      <th>no_of_weekend_nights</th>\n",
       "      <th>no_of_week_nights</th>\n",
       "      <th>type_of_meal_plan</th>\n",
       "      <th>required_car_parking_space</th>\n",
       "      <th>room_type_reserved</th>\n",
       "      <th>lead_time</th>\n",
       "      <th>arrival_year</th>\n",
       "      <th>arrival_month</th>\n",
       "      <th>arrival_date</th>\n",
       "      <th>market_segment_type</th>\n",
       "      <th>repeated_guest</th>\n",
       "      <th>no_of_previous_cancellations</th>\n",
       "      <th>no_of_previous_bookings_not_canceled</th>\n",
       "      <th>avg_price_per_room</th>\n",
       "      <th>no_of_special_requests</th>\n",
       "      <th>booking_status</th>\n",
       "    </tr>\n",
       "  </thead>\n",
       "  <tbody>\n",
       "    <tr>\n",
       "      <th>63</th>\n",
       "      <td>1</td>\n",
       "      <td>0</td>\n",
       "      <td>0</td>\n",
       "      <td>1</td>\n",
       "      <td>Meal Plan 1</td>\n",
       "      <td>0</td>\n",
       "      <td>Room_Type 1</td>\n",
       "      <td>2</td>\n",
       "      <td>2017</td>\n",
       "      <td>9</td>\n",
       "      <td>10</td>\n",
       "      <td>Complementary</td>\n",
       "      <td>0</td>\n",
       "      <td>0</td>\n",
       "      <td>0</td>\n",
       "      <td>0.0</td>\n",
       "      <td>1</td>\n",
       "      <td>Not_Canceled</td>\n",
       "    </tr>\n",
       "    <tr>\n",
       "      <th>145</th>\n",
       "      <td>1</td>\n",
       "      <td>0</td>\n",
       "      <td>0</td>\n",
       "      <td>2</td>\n",
       "      <td>Meal Plan 1</td>\n",
       "      <td>0</td>\n",
       "      <td>Room_Type 1</td>\n",
       "      <td>13</td>\n",
       "      <td>2018</td>\n",
       "      <td>6</td>\n",
       "      <td>1</td>\n",
       "      <td>Complementary</td>\n",
       "      <td>1</td>\n",
       "      <td>3</td>\n",
       "      <td>5</td>\n",
       "      <td>0.0</td>\n",
       "      <td>1</td>\n",
       "      <td>Not_Canceled</td>\n",
       "    </tr>\n",
       "    <tr>\n",
       "      <th>209</th>\n",
       "      <td>1</td>\n",
       "      <td>0</td>\n",
       "      <td>0</td>\n",
       "      <td>0</td>\n",
       "      <td>Meal Plan 1</td>\n",
       "      <td>0</td>\n",
       "      <td>Room_Type 1</td>\n",
       "      <td>4</td>\n",
       "      <td>2018</td>\n",
       "      <td>2</td>\n",
       "      <td>27</td>\n",
       "      <td>Complementary</td>\n",
       "      <td>0</td>\n",
       "      <td>0</td>\n",
       "      <td>0</td>\n",
       "      <td>0.0</td>\n",
       "      <td>1</td>\n",
       "      <td>Not_Canceled</td>\n",
       "    </tr>\n",
       "    <tr>\n",
       "      <th>266</th>\n",
       "      <td>1</td>\n",
       "      <td>0</td>\n",
       "      <td>0</td>\n",
       "      <td>2</td>\n",
       "      <td>Meal Plan 1</td>\n",
       "      <td>0</td>\n",
       "      <td>Room_Type 1</td>\n",
       "      <td>1</td>\n",
       "      <td>2017</td>\n",
       "      <td>8</td>\n",
       "      <td>12</td>\n",
       "      <td>Complementary</td>\n",
       "      <td>1</td>\n",
       "      <td>0</td>\n",
       "      <td>1</td>\n",
       "      <td>0.0</td>\n",
       "      <td>1</td>\n",
       "      <td>Not_Canceled</td>\n",
       "    </tr>\n",
       "    <tr>\n",
       "      <th>267</th>\n",
       "      <td>1</td>\n",
       "      <td>0</td>\n",
       "      <td>2</td>\n",
       "      <td>1</td>\n",
       "      <td>Meal Plan 1</td>\n",
       "      <td>0</td>\n",
       "      <td>Room_Type 1</td>\n",
       "      <td>4</td>\n",
       "      <td>2017</td>\n",
       "      <td>8</td>\n",
       "      <td>23</td>\n",
       "      <td>Complementary</td>\n",
       "      <td>0</td>\n",
       "      <td>0</td>\n",
       "      <td>0</td>\n",
       "      <td>0.0</td>\n",
       "      <td>1</td>\n",
       "      <td>Not_Canceled</td>\n",
       "    </tr>\n",
       "    <tr>\n",
       "      <th>...</th>\n",
       "      <td>...</td>\n",
       "      <td>...</td>\n",
       "      <td>...</td>\n",
       "      <td>...</td>\n",
       "      <td>...</td>\n",
       "      <td>...</td>\n",
       "      <td>...</td>\n",
       "      <td>...</td>\n",
       "      <td>...</td>\n",
       "      <td>...</td>\n",
       "      <td>...</td>\n",
       "      <td>...</td>\n",
       "      <td>...</td>\n",
       "      <td>...</td>\n",
       "      <td>...</td>\n",
       "      <td>...</td>\n",
       "      <td>...</td>\n",
       "      <td>...</td>\n",
       "    </tr>\n",
       "    <tr>\n",
       "      <th>35983</th>\n",
       "      <td>1</td>\n",
       "      <td>0</td>\n",
       "      <td>0</td>\n",
       "      <td>1</td>\n",
       "      <td>Meal Plan 1</td>\n",
       "      <td>0</td>\n",
       "      <td>Room_Type 7</td>\n",
       "      <td>0</td>\n",
       "      <td>2018</td>\n",
       "      <td>6</td>\n",
       "      <td>7</td>\n",
       "      <td>Complementary</td>\n",
       "      <td>1</td>\n",
       "      <td>4</td>\n",
       "      <td>17</td>\n",
       "      <td>0.0</td>\n",
       "      <td>1</td>\n",
       "      <td>Not_Canceled</td>\n",
       "    </tr>\n",
       "    <tr>\n",
       "      <th>36080</th>\n",
       "      <td>1</td>\n",
       "      <td>0</td>\n",
       "      <td>1</td>\n",
       "      <td>1</td>\n",
       "      <td>Meal Plan 1</td>\n",
       "      <td>0</td>\n",
       "      <td>Room_Type 7</td>\n",
       "      <td>0</td>\n",
       "      <td>2018</td>\n",
       "      <td>3</td>\n",
       "      <td>21</td>\n",
       "      <td>Complementary</td>\n",
       "      <td>1</td>\n",
       "      <td>3</td>\n",
       "      <td>15</td>\n",
       "      <td>0.0</td>\n",
       "      <td>1</td>\n",
       "      <td>Not_Canceled</td>\n",
       "    </tr>\n",
       "    <tr>\n",
       "      <th>36114</th>\n",
       "      <td>1</td>\n",
       "      <td>0</td>\n",
       "      <td>0</td>\n",
       "      <td>1</td>\n",
       "      <td>Meal Plan 1</td>\n",
       "      <td>0</td>\n",
       "      <td>Room_Type 1</td>\n",
       "      <td>1</td>\n",
       "      <td>2018</td>\n",
       "      <td>3</td>\n",
       "      <td>2</td>\n",
       "      <td>Online</td>\n",
       "      <td>0</td>\n",
       "      <td>0</td>\n",
       "      <td>0</td>\n",
       "      <td>0.0</td>\n",
       "      <td>0</td>\n",
       "      <td>Not_Canceled</td>\n",
       "    </tr>\n",
       "    <tr>\n",
       "      <th>36217</th>\n",
       "      <td>2</td>\n",
       "      <td>0</td>\n",
       "      <td>2</td>\n",
       "      <td>1</td>\n",
       "      <td>Meal Plan 1</td>\n",
       "      <td>0</td>\n",
       "      <td>Room_Type 2</td>\n",
       "      <td>3</td>\n",
       "      <td>2017</td>\n",
       "      <td>8</td>\n",
       "      <td>9</td>\n",
       "      <td>Online</td>\n",
       "      <td>0</td>\n",
       "      <td>0</td>\n",
       "      <td>0</td>\n",
       "      <td>0.0</td>\n",
       "      <td>2</td>\n",
       "      <td>Not_Canceled</td>\n",
       "    </tr>\n",
       "    <tr>\n",
       "      <th>36250</th>\n",
       "      <td>1</td>\n",
       "      <td>0</td>\n",
       "      <td>0</td>\n",
       "      <td>2</td>\n",
       "      <td>Meal Plan 2</td>\n",
       "      <td>0</td>\n",
       "      <td>Room_Type 1</td>\n",
       "      <td>6</td>\n",
       "      <td>2017</td>\n",
       "      <td>12</td>\n",
       "      <td>10</td>\n",
       "      <td>Online</td>\n",
       "      <td>0</td>\n",
       "      <td>0</td>\n",
       "      <td>0</td>\n",
       "      <td>0.0</td>\n",
       "      <td>0</td>\n",
       "      <td>Not_Canceled</td>\n",
       "    </tr>\n",
       "  </tbody>\n",
       "</table>\n",
       "<p>545 rows × 18 columns</p>\n",
       "</div>"
      ],
      "text/plain": [
       "       no_of_adults  no_of_children  no_of_weekend_nights  no_of_week_nights  \\\n",
       "63                1               0                     0                  1   \n",
       "145               1               0                     0                  2   \n",
       "209               1               0                     0                  0   \n",
       "266               1               0                     0                  2   \n",
       "267               1               0                     2                  1   \n",
       "...             ...             ...                   ...                ...   \n",
       "35983             1               0                     0                  1   \n",
       "36080             1               0                     1                  1   \n",
       "36114             1               0                     0                  1   \n",
       "36217             2               0                     2                  1   \n",
       "36250             1               0                     0                  2   \n",
       "\n",
       "      type_of_meal_plan  required_car_parking_space room_type_reserved  \\\n",
       "63          Meal Plan 1                           0        Room_Type 1   \n",
       "145         Meal Plan 1                           0        Room_Type 1   \n",
       "209         Meal Plan 1                           0        Room_Type 1   \n",
       "266         Meal Plan 1                           0        Room_Type 1   \n",
       "267         Meal Plan 1                           0        Room_Type 1   \n",
       "...                 ...                         ...                ...   \n",
       "35983       Meal Plan 1                           0        Room_Type 7   \n",
       "36080       Meal Plan 1                           0        Room_Type 7   \n",
       "36114       Meal Plan 1                           0        Room_Type 1   \n",
       "36217       Meal Plan 1                           0        Room_Type 2   \n",
       "36250       Meal Plan 2                           0        Room_Type 1   \n",
       "\n",
       "       lead_time  arrival_year  arrival_month  arrival_date  \\\n",
       "63             2          2017              9            10   \n",
       "145           13          2018              6             1   \n",
       "209            4          2018              2            27   \n",
       "266            1          2017              8            12   \n",
       "267            4          2017              8            23   \n",
       "...          ...           ...            ...           ...   \n",
       "35983          0          2018              6             7   \n",
       "36080          0          2018              3            21   \n",
       "36114          1          2018              3             2   \n",
       "36217          3          2017              8             9   \n",
       "36250          6          2017             12            10   \n",
       "\n",
       "      market_segment_type  repeated_guest  no_of_previous_cancellations  \\\n",
       "63          Complementary               0                             0   \n",
       "145         Complementary               1                             3   \n",
       "209         Complementary               0                             0   \n",
       "266         Complementary               1                             0   \n",
       "267         Complementary               0                             0   \n",
       "...                   ...             ...                           ...   \n",
       "35983       Complementary               1                             4   \n",
       "36080       Complementary               1                             3   \n",
       "36114              Online               0                             0   \n",
       "36217              Online               0                             0   \n",
       "36250              Online               0                             0   \n",
       "\n",
       "       no_of_previous_bookings_not_canceled  avg_price_per_room  \\\n",
       "63                                        0                 0.0   \n",
       "145                                       5                 0.0   \n",
       "209                                       0                 0.0   \n",
       "266                                       1                 0.0   \n",
       "267                                       0                 0.0   \n",
       "...                                     ...                 ...   \n",
       "35983                                    17                 0.0   \n",
       "36080                                    15                 0.0   \n",
       "36114                                     0                 0.0   \n",
       "36217                                     0                 0.0   \n",
       "36250                                     0                 0.0   \n",
       "\n",
       "       no_of_special_requests booking_status  \n",
       "63                          1   Not_Canceled  \n",
       "145                         1   Not_Canceled  \n",
       "209                         1   Not_Canceled  \n",
       "266                         1   Not_Canceled  \n",
       "267                         1   Not_Canceled  \n",
       "...                       ...            ...  \n",
       "35983                       1   Not_Canceled  \n",
       "36080                       1   Not_Canceled  \n",
       "36114                       0   Not_Canceled  \n",
       "36217                       2   Not_Canceled  \n",
       "36250                       0   Not_Canceled  \n",
       "\n",
       "[545 rows x 18 columns]"
      ]
     },
     "execution_count": 11,
     "metadata": {},
     "output_type": "execute_result"
    }
   ],
   "source": [
    "# Checking the rows where avg_price_per_room is 0\n"
   ]
  },
  {
   "cell_type": "markdown",
   "id": "66b622b0",
   "metadata": {},
   "source": [
    "- In the market segment column, it looks like **many values are complementary**. Let's check the market segment where the room prices are equal to 0."
   ]
  },
  {
   "cell_type": "code",
   "execution_count": 12,
   "id": "03a62b5f",
   "metadata": {},
   "outputs": [
    {
     "data": {
      "text/plain": [
       "Complementary    354\n",
       "Online           191\n",
       "Name: market_segment_type, dtype: int64"
      ]
     },
     "execution_count": 12,
     "metadata": {},
     "output_type": "execute_result"
    }
   ],
   "source": []
  },
  {
   "cell_type": "markdown",
   "id": "bbd16e81",
   "metadata": {},
   "source": [
    "* It makes sense that most values with room prices equal to 0 are the rooms given as complimentary service given by the hotel.\n",
    "* The rooms booked online might be a part of some promotional campaign done by the hotel. We will not treat these rows as we don't have the data to test this claim."
   ]
  },
  {
   "cell_type": "markdown",
   "id": "b5475645",
   "metadata": {},
   "source": [
    "#### Check the distribution and outliers for some columns in the data"
   ]
  },
  {
   "cell_type": "code",
   "execution_count": 13,
   "id": "a33e8d3c",
   "metadata": {},
   "outputs": [
    {
     "name": "stdout",
     "output_type": "stream",
     "text": [
      "lead_time\n",
      "Skew : 1.29\n"
     ]
    },
    {
     "data": {
      "image/png": "[encoded data removed]",
      "text/plain": [
       "<Figure size 1080x288 with 2 Axes>"
      ]
     },
     "metadata": {
      "needs_background": "light"
     },
     "output_type": "display_data"
    },
    {
     "name": "stdout",
     "output_type": "stream",
     "text": [
      "no_of_previous_cancellations\n",
      "Skew : 25.2\n"
     ]
    },
    {
     "data": {
      "image/png": "[encoded data removed]",
      "text/plain": [
       "<Figure size 1080x288 with 2 Axes>"
      ]
     },
     "metadata": {
      "needs_background": "light"
     },
     "output_type": "display_data"
    },
    {
     "name": "stdout",
     "output_type": "stream",
     "text": [
      "no_of_previous_bookings_not_canceled\n",
      "Skew : 19.25\n"
     ]
    },
    {
     "data": {
      "image/png": "[encoded data removed]",
      "text/plain": [
       "<Figure size 1080x288 with 2 Axes>"
      ]
     },
     "metadata": {
      "needs_background": "light"
     },
     "output_type": "display_data"
    },
    {
     "name": "stdout",
     "output_type": "stream",
     "text": [
      "avg_price_per_room\n",
      "Skew : 0.67\n"
     ]
    },
    {
     "data": {
      "image/png": "[encoded data removed]",
      "text/plain": [
       "<Figure size 1080x288 with 2 Axes>"
      ]
     },
     "metadata": {
      "needs_background": "light"
     },
     "output_type": "display_data"
    }
   ],
   "source": []
  },
  {
   "cell_type": "markdown",
   "id": "61626c88",
   "metadata": {},
   "source": [
    "- The distribution of **lead time is right-skewed**. Many customers have made the booking on the same day of arrival as well. There are many outliers, **some customers made booking more than 400 days in advance**. \n",
    "- **Very few customers have more than one cancellation**. Some customers canceled more than 12 times.\n",
    "- **Very few customers have more than 1 booking not canceled previously**. Some customers have not canceled their bookings around 60 times.\n",
    "- **The distribution of average price per room is skewed to right**. There are outliers on both sides. The median price of a room is around ~100 euros. There is 1 observation where the average price of the room is more than 500 euros. This observation is quite far away from the rest of the values. We can treat this by clipping the value to the upper whisker (Q3 + 1.5 * IQR)."
   ]
  },
  {
   "cell_type": "code",
   "execution_count": 14,
   "id": "97958e32",
   "metadata": {},
   "outputs": [
    {
     "data": {
      "text/plain": [
       "179.55"
      ]
     },
     "execution_count": 14,
     "metadata": {},
     "output_type": "execute_result"
    }
   ],
   "source": [
    "# Calculating the 25th quantile\n",
    "\n",
    "# Calculating the 75th quantile\n",
    "\n",
    "# Calculating IQR\n",
    "\n",
    "# Calculating value of upper whisker"
   ]
  },
  {
   "cell_type": "code",
   "execution_count": 15,
   "id": "44a79fba",
   "metadata": {},
   "outputs": [],
   "source": [
    "# Assigning the outliers the value of upper whisker\n"
   ]
  },
  {
   "cell_type": "markdown",
   "id": "7933eea4",
   "metadata": {},
   "source": [
    "#### Now, let's check percentage of each category for some variables"
   ]
  },
  {
   "cell_type": "markdown",
   "id": "92d29c6c",
   "metadata": {},
   "source": [
    "#### Question 2: \n",
    "\n",
    "- **Write the code to check the percentage of each category for columns mentioned below (cat_cols) (2 Marks)**\n",
    "- **Write your observations (2 Marks)**"
   ]
  },
  {
   "cell_type": "code",
   "execution_count": 16,
   "id": "8ed8228f",
   "metadata": {},
   "outputs": [
    {
     "name": "stdout",
     "output_type": "stream",
     "text": [
      "Column: no_of_adults\n",
      "2    71.972433\n",
      "1    21.212957\n",
      "3     6.387319\n",
      "0     0.383184\n",
      "4     0.044108\n",
      "Name: no_of_adults, dtype: float64\n",
      "\n",
      "Column: no_of_children\n",
      "0     92.562371\n",
      "1      4.460372\n",
      "2      2.916609\n",
      "3      0.052378\n",
      "9      0.005513\n",
      "10     0.002757\n",
      "Name: no_of_children, dtype: float64\n",
      "\n",
      "Column: no_of_week_nights\n",
      "2     31.547898\n",
      "1     26.155755\n",
      "3     21.609924\n",
      "4      8.242591\n",
      "0      6.580289\n",
      "5      4.449345\n",
      "6      0.521020\n",
      "7      0.311509\n",
      "10     0.170917\n",
      "8      0.170917\n",
      "9      0.093728\n",
      "11     0.046864\n",
      "15     0.027567\n",
      "12     0.024810\n",
      "14     0.019297\n",
      "13     0.013784\n",
      "17     0.008270\n",
      "16     0.005513\n",
      "Name: no_of_week_nights, dtype: float64\n",
      "\n",
      "Column: no_of_weekend_nights\n",
      "0    46.511371\n",
      "1    27.553411\n",
      "2    25.006203\n",
      "3     0.421778\n",
      "4     0.355617\n",
      "5     0.093728\n",
      "6     0.055134\n",
      "7     0.002757\n",
      "Name: no_of_weekend_nights, dtype: float64\n",
      "\n",
      "Column: required_car_parking_space\n",
      "0    96.901447\n",
      "1     3.098553\n",
      "Name: required_car_parking_space, dtype: float64\n",
      "\n",
      "Column: type_of_meal_plan\n",
      "Meal Plan 1     76.733287\n",
      "Not Selected    14.141971\n",
      "Meal Plan 2      9.110958\n",
      "Meal Plan 3      0.013784\n",
      "Name: type_of_meal_plan, dtype: float64\n",
      "\n",
      "Column: room_type_reserved\n",
      "Room_Type 1    77.546520\n",
      "Room_Type 4    16.697450\n",
      "Room_Type 6     2.662991\n",
      "Room_Type 2     1.907650\n",
      "Room_Type 5     0.730531\n",
      "Room_Type 7     0.435562\n",
      "Room_Type 3     0.019297\n",
      "Name: room_type_reserved, dtype: float64\n",
      "\n",
      "Column: arrival_month\n",
      "10    14.657478\n",
      "9     12.711234\n",
      "8     10.511371\n",
      "6      8.829773\n",
      "12     8.328050\n",
      "11     8.215024\n",
      "7      8.049621\n",
      "4      7.542385\n",
      "5      7.161957\n",
      "3      6.500345\n",
      "2      4.697450\n",
      "1      2.795314\n",
      "Name: arrival_month, dtype: float64\n",
      "\n",
      "Column: market_segment_type\n",
      "Online           63.994487\n",
      "Offline          29.022743\n",
      "Corporate         5.560303\n",
      "Complementary     1.077877\n",
      "Aviation          0.344590\n",
      "Name: market_segment_type, dtype: float64\n",
      "\n",
      "Column: no_of_special_requests\n",
      "0    54.519642\n",
      "1    31.352171\n",
      "2    12.030324\n",
      "3     1.860786\n",
      "4     0.215024\n",
      "5     0.022054\n",
      "Name: no_of_special_requests, dtype: float64\n",
      "\n",
      "Column: booking_status\n",
      "Not_Canceled    67.236389\n",
      "Canceled        32.763611\n",
      "Name: booking_status, dtype: float64\n",
      "\n"
     ]
    }
   ],
   "source": [
    "cat_cols = ['no_of_adults', 'no_of_children', 'no_of_week_nights', 'no_of_weekend_nights', 'required_car_parking_space', \n",
    "        'type_of_meal_plan', 'room_type_reserved', 'arrival_month', 'market_segment_type', 'no_of_special_requests', \n",
    "        'booking_status']\n",
    "\n",
    "# Write your code here"
   ]
  },
  {
   "cell_type": "markdown",
   "id": "cbc3d58f",
   "metadata": {},
   "source": [
    "**Observations:**\n",
    "\n",
    "* The most category for no_of_adults is 2 with 71.97% and the least common category is 4 with 0.04%.\n",
    "* The most category for no_of_children is 0 with 92.56% and the least common category is 10 with 0.002%.\n",
    "* The most category for no_of_week_nights is 2 with 31.54% and the least common category is 16 with 0.005%.\n",
    "* The most category for no_of_weekend_nights is 0 with 46.51% and the least common category is 7 with 0.002%.\n",
    "* The most category for rquired_car_parking_space is 0 with 96.90% and the least common category is 1 with 3.09%.\n",
    "* The most category for type_of_meal_plan is Meal PLan 1 with 76.73% and the least common category is Meal Plan 3 with 0.013%.\n",
    "* The most category for room_type_reserved is Room_Type 1 with 77.54% and the least common category is Room_Type 3 with 0.019%.\n",
    "* The most category for arrival_month is 10 with 14.65% and the least common category is 1 with 2.79%.\n",
    "* The most category for market_segment_type is Online with 63.99% and the least common category is Aviation with 0.344%.\n",
    "* The most category for no_of_special_requets is 0 with 54.51% and the least common category is 6 with 0.022%.\n",
    "* The most category for booking_status is Not_Canceled with 67.23% and the least common category is Canceled with 32.76%.\n"
   ]
  },
  {
   "cell_type": "markdown",
   "id": "1b4af145",
   "metadata": {},
   "source": [
    "**Replacing values 9 and 10 for the number of children with 3 and encoding the target variable**"
   ]
  },
  {
   "cell_type": "code",
   "execution_count": 17,
   "id": "76edc50e",
   "metadata": {},
   "outputs": [],
   "source": [
    "# Replacing 9, and 10 children with 3\n"
   ]
  },
  {
   "cell_type": "code",
   "execution_count": 18,
   "id": "a31a2232",
   "metadata": {},
   "outputs": [],
   "source": []
  },
  {
   "cell_type": "markdown",
   "id": "316cef3e",
   "metadata": {},
   "source": [
    "**We are done with univariate analysis and data preprocessing. Let's explore the data a bit more with bivariate analysis.**\n",
    "\n",
    "Let's check the relationship of market segment type with the average price per room."
   ]
  },
  {
   "cell_type": "code",
   "execution_count": 19,
   "id": "7d1cef5c",
   "metadata": {},
   "outputs": [
    {
     "data": {
      "image/png": "[encoded data removed]",
      "text/plain": [
       "<Figure size 720x432 with 1 Axes>"
      ]
     },
     "metadata": {
      "needs_background": "light"
     },
     "output_type": "display_data"
    }
   ],
   "source": []
  },
  {
   "cell_type": "markdown",
   "id": "39120108",
   "metadata": {},
   "source": [
    "* **Rooms booked online have the highest variations in prices.**\n",
    "* The distribution for offline and corporate room prices are almost similar except for some outliers.\n",
    "* Complementary market segment gets the rooms at very low prices, which makes sense."
   ]
  },
  {
   "cell_type": "markdown",
   "id": "d083582e",
   "metadata": {},
   "source": [
    "**Let's see how booking status varies across different market segments. Also, how lead time impacts booking status**"
   ]
  },
  {
   "cell_type": "code",
   "execution_count": 20,
   "id": "938ee108",
   "metadata": {},
   "outputs": [
    {
     "data": {
      "image/png": "[encoded data removed]",
      "text/plain": [
       "<Figure size 720x432 with 1 Axes>"
      ]
     },
     "metadata": {
      "needs_background": "light"
     },
     "output_type": "display_data"
    }
   ],
   "source": []
  },
  {
   "cell_type": "markdown",
   "id": "ddda1b44",
   "metadata": {},
   "source": [
    "* **Online bookings have the highest number of cancellations.**\n",
    "* Bookings made offline are less prone to cancellations.\n",
    "* Corporate and complementary segment shows very low cancellations."
   ]
  },
  {
   "cell_type": "code",
   "execution_count": 21,
   "id": "2fa8550f",
   "metadata": {},
   "outputs": [
    {
     "data": {
      "image/png": "[encoded data removed]",
      "text/plain": [
       "<Figure size 720x432 with 1 Axes>"
      ]
     },
     "metadata": {
      "needs_background": "light"
     },
     "output_type": "display_data"
    }
   ],
   "source": []
  },
  {
   "cell_type": "markdown",
   "id": "cca133c8",
   "metadata": {},
   "source": [
    "* There's a big difference in the median value of lead time for bookings that were canceled and bookings that were not canceled. **The higher the lead time higher is the chances of a booking being canceled.**"
   ]
  },
  {
   "cell_type": "markdown",
   "id": "ad94a822",
   "metadata": {},
   "source": [
    "**Now, let's check how the arrival month impacts the booking status**"
   ]
  },
  {
   "cell_type": "code",
   "execution_count": 22,
   "id": "c487941c",
   "metadata": {},
   "outputs": [
    {
     "data": {
      "image/png": "[encoded data removed]",
      "text/plain": [
       "<Figure size 720x432 with 1 Axes>"
      ]
     },
     "metadata": {
      "needs_background": "light"
     },
     "output_type": "display_data"
    }
   ],
   "source": []
  },
  {
   "cell_type": "markdown",
   "id": "a47c4197",
   "metadata": {},
   "source": [
    "- We observed earlier that the month of October has the highest number of bookings but the above plot shows that **October has the highest number of cancellations** as well.\n",
    "- Bookings made for **December and January are less prone to cancellations**."
   ]
  },
  {
   "cell_type": "markdown",
   "id": "64455d9e",
   "metadata": {},
   "source": [
    "**Repeating guests are the guests who stay in the hotel often and are important to brand equity. Let's see what percentage of repeating guests cancel?**"
   ]
  },
  {
   "cell_type": "code",
   "execution_count": 23,
   "id": "acdd4f38",
   "metadata": {},
   "outputs": [
    {
     "data": {
      "image/png": "[encoded data removed]",
      "text/plain": [
       "<Figure size 720x432 with 1 Axes>"
      ]
     },
     "metadata": {
      "needs_background": "light"
     },
     "output_type": "display_data"
    }
   ],
   "source": []
  },
  {
   "cell_type": "markdown",
   "id": "5404d5ce",
   "metadata": {},
   "source": [
    "* There are **very few repeat customers but the cancellation among them is very less**. This is a good indication as repeat customers are important for the hospitality industry as they can help in spreading the word of mouth."
   ]
  },
  {
   "cell_type": "markdown",
   "id": "47b91271",
   "metadata": {
    "id": "arranged-courtesy"
   },
   "source": [
    "**We have explored different combinations of variables. Now, let's see the pairwise correlations between all the variables.**"
   ]
  },
  {
   "cell_type": "code",
   "execution_count": 24,
   "id": "7fa41baa",
   "metadata": {
    "id": "official-wyoming",
    "outputId": "81a9c889-9e29-4178-924c-ff99a2b6acab"
   },
   "outputs": [
    {
     "data": {
      "image/png": "[encoded data removed]",
      "text/plain": [
       "<Figure size 864x504 with 2 Axes>"
      ]
     },
     "metadata": {
      "needs_background": "light"
     },
     "output_type": "display_data"
    }
   ],
   "source": []
  },
  {
   "cell_type": "markdown",
   "id": "11ca05ac",
   "metadata": {
    "id": "brave-hamilton"
   },
   "source": [
    "* There's a **positive correlation between the number of customers (adults and children) and the average price per room**. This makes sense as more the number of customers more rooms they will require thus increasing the cost.\n",
    "* There's a **negative correlation between average room price and repeated guests**. The hotel might be giving some loyalty benefits to the customers.\n",
    "* **Repeated guests have a positive correlation with the number of previous bookings canceled and previous bookings not canceled.** This implies that repeated customers are also likely to cancel their bookings.  \n",
    "* There's a positive correlation between lead time and the number of weeknights a customer is planning to stay in the hotel.\n",
    "* There's a **positive correlation between booking status and lead time**, indicating higher the lead time higher are the chances of cancellation.\n",
    "* There's a negative correlation between the number of special requests from the customer and the booking status, indicating **if a customer has made some special requests the chances of cancellation might decrease**"
   ]
  },
  {
   "cell_type": "markdown",
   "id": "94dd24a3",
   "metadata": {},
   "source": [
    "**Now that we have explored our data, let's prepare it for modeling.**"
   ]
  },
  {
   "cell_type": "markdown",
   "id": "424e7c36",
   "metadata": {},
   "source": [
    "## Preparing data for modeling"
   ]
  },
  {
   "cell_type": "markdown",
   "id": "a3347142",
   "metadata": {},
   "source": [
    "- Models cannot take non-numeric inputs. So, we will first create dummy variables for all the categorical variables.\n",
    "- We will then split the data into train and test sets."
   ]
  },
  {
   "cell_type": "markdown",
   "id": "2a4adef3",
   "metadata": {},
   "source": [
    "#### Question 3: \n",
    "\n",
    "- **Drop the target variable from the original data and store it in a separate dataframe `X` (1 Mark)**\n",
    "- **Store the target variable in a separate series `Y` (1 Mark)**"
   ]
  },
  {
   "cell_type": "code",
   "execution_count": 25,
   "id": "4794072a",
   "metadata": {},
   "outputs": [],
   "source": [
    "# Remove the blanks and complete the below code\n"
   ]
  },
  {
   "cell_type": "code",
   "execution_count": 26,
   "id": "f0136af7",
   "metadata": {},
   "outputs": [],
   "source": [
    "# Creating dummy variables \n",
    "# drop_first=True is used to avoid redundant variables\n"
   ]
  },
  {
   "cell_type": "code",
   "execution_count": 27,
   "id": "685d1e3e",
   "metadata": {},
   "outputs": [],
   "source": [
    "# Splitting the data into train and test sets\n"
   ]
  },
  {
   "cell_type": "markdown",
   "id": "35757870",
   "metadata": {},
   "source": [
    "## Building Classification Models"
   ]
  },
  {
   "cell_type": "markdown",
   "id": "779f0b78",
   "metadata": {},
   "source": [
    "**Before training the model, let's choose the appropriate model evaluation criterion as per the problem on hand.**\n",
    "\n",
    "### Model evaluation criterion\n",
    "\n",
    "#### Model can make wrong predictions as:\n",
    "\n",
    "1. Predicting a customer will not cancel their booking but in reality, the customer will cancel their booking.\n",
    "2. Predicting a customer will cancel their booking but in reality, the customer will not cancel their booking. \n",
    "\n",
    "#### Which case is more important? \n",
    "* Both the cases are important as:\n",
    "\n",
    "* If we predict that a booking will not be canceled and the booking gets canceled then the hotel will lose resources and will have to bear additional costs of unsold rooms. The hotel might also have to bear an additional cost of advertising the room again on different distribution channels.\n",
    "\n",
    "* If we predict that a booking will get canceled and the booking doesn't get canceled the hotel might not be able to provide satisfactory services to the customer by assuming that this booking will be canceled. This might damage the brand equity. \n",
    "\n",
    "\n",
    "#### How to reduce the losses?\n",
    "\n",
    "* Hotel would want `F1 Score` to be maximized, greater the F1 score higher are the chances of minimizing False Negatives and False Positives. "
   ]
  },
  {
   "cell_type": "markdown",
   "id": "02292cb2",
   "metadata": {
    "id": "ruled-appointment"
   },
   "source": [
    "**Also, let's create a function to calculate and print the classification report and confusion matrix so that we don't have to rewrite the same code repeatedly for each model.**"
   ]
  },
  {
   "cell_type": "code",
   "execution_count": 28,
   "id": "70248080",
   "metadata": {},
   "outputs": [],
   "source": [
    "# Function to print classification report and get confusion matrix in a proper format\n"
   ]
  },
  {
   "cell_type": "markdown",
   "id": "edac81b5",
   "metadata": {
    "id": "mysterious-sight"
   },
   "source": [
    "### Logistic Regression"
   ]
  },
  {
   "cell_type": "markdown",
   "id": "2e97afb8",
   "metadata": {},
   "source": [
    "#### Question 4: Fit the logistic regression model on the train dataset using random_state=1 (2 Marks)"
   ]
  },
  {
   "cell_type": "code",
   "execution_count": 29,
   "id": "8670a5d1",
   "metadata": {
    "id": "plastic-logistics",
    "outputId": "472afe97-48ae-43c9-f971-52280fabb39d"
   },
   "outputs": [
    {
     "data": {
      "text/plain": [
       "LogisticRegression(random_state=1)"
      ]
     },
     "execution_count": 29,
     "metadata": {},
     "output_type": "execute_result"
    }
   ],
   "source": [
    "# Define logistic regression model \n",
    "\n",
    "# Fit the model\n"
   ]
  },
  {
   "cell_type": "markdown",
   "id": "2fe5268d",
   "metadata": {},
   "source": [
    "**Let's check the coefficient of each dependent variable in the data**"
   ]
  },
  {
   "cell_type": "markdown",
   "id": "589542c1",
   "metadata": {},
   "source": [
    "#### Question 5: Write your observations on the below coefficients obtained from the logistic regression model (3 Marks)"
   ]
  },
  {
   "cell_type": "code",
   "execution_count": 30,
   "id": "f244b547",
   "metadata": {
    "id": "coordinate-superintendent",
    "outputId": "bd508087-3ace-4664-da2b-90ed282fb66d"
   },
   "outputs": [
    {
     "data": {
      "text/plain": [
       "market_segment_type_Online              0.629148\n",
       "type_of_meal_plan_Not Selected          0.324141\n",
       "no_of_weekend_nights                    0.181323\n",
       "avg_price_per_room                      0.019673\n",
       "lead_time                               0.015663\n",
       "no_of_adults                            0.011646\n",
       "no_of_week_nights                       0.003552\n",
       "arrival_date                            0.001169\n",
       "type_of_meal_plan_Meal Plan 3           0.000404\n",
       "room_type_reserved_Room_Type 3          0.000343\n",
       "arrival_year                           -0.001720\n",
       "room_type_reserved_Room_Type 2         -0.004321\n",
       "market_segment_type_Complementary      -0.008853\n",
       "room_type_reserved_Room_Type 5         -0.011247\n",
       "room_type_reserved_Room_Type 7         -0.017973\n",
       "no_of_previous_cancellations           -0.024807\n",
       "market_segment_type_Corporate          -0.031524\n",
       "room_type_reserved_Room_Type 4         -0.033054\n",
       "repeated_guest                         -0.043752\n",
       "room_type_reserved_Room_Type 6         -0.046006\n",
       "no_of_children                         -0.054241\n",
       "arrival_month                          -0.061278\n",
       "type_of_meal_plan_Meal Plan 2          -0.094977\n",
       "required_car_parking_space             -0.140227\n",
       "no_of_previous_bookings_not_canceled   -0.213859\n",
       "market_segment_type_Offline            -0.603138\n",
       "no_of_special_requests                 -1.560552\n",
       "dtype: float64"
      ]
     },
     "execution_count": 30,
     "metadata": {},
     "output_type": "execute_result"
    }
   ],
   "source": []
  },
  {
   "cell_type": "markdown",
   "id": "daa3a1b3",
   "metadata": {},
   "source": [
    "**Observations:**\n",
    "\n",
    "* The features with the highest positive impact are market_segment_type_Online, type_of_meal_plan_Not Selected, and no_of_weekend_nights.\n",
    "* The features with the highest negative impact are no_of_special_requests, market_segment_type_Offline, no_of_previous_bookings_not_canceled.\n",
    "* The features that had little impact on the model are room_type_reserved_Room_Type 3 and arrival_year."
   ]
  },
  {
   "cell_type": "markdown",
   "id": "2fa65ba0",
   "metadata": {},
   "source": [
    "#### Question 6: Write your interpretations of the odds calculated from the logistic regression model coefficients (3 Marks)"
   ]
  },
  {
   "cell_type": "code",
   "execution_count": 31,
   "id": "b79a1699",
   "metadata": {},
   "outputs": [
    {
     "data": {
      "text/html": [
       "<div>\n",
       "<style scoped>\n",
       "    .dataframe tbody tr th:only-of-type {\n",
       "        vertical-align: middle;\n",
       "    }\n",
       "\n",
       "    .dataframe tbody tr th {\n",
       "        vertical-align: top;\n",
       "    }\n",
       "\n",
       "    .dataframe thead th {\n",
       "        text-align: right;\n",
       "    }\n",
       "</style>\n",
       "<table border=\"1\" class=\"dataframe\">\n",
       "  <thead>\n",
       "    <tr style=\"text-align: right;\">\n",
       "      <th></th>\n",
       "      <th>odds</th>\n",
       "    </tr>\n",
       "  </thead>\n",
       "  <tbody>\n",
       "    <tr>\n",
       "      <th>market_segment_type_Online</th>\n",
       "      <td>1.876011</td>\n",
       "    </tr>\n",
       "    <tr>\n",
       "      <th>type_of_meal_plan_Not Selected</th>\n",
       "      <td>1.382843</td>\n",
       "    </tr>\n",
       "    <tr>\n",
       "      <th>no_of_weekend_nights</th>\n",
       "      <td>1.198802</td>\n",
       "    </tr>\n",
       "    <tr>\n",
       "      <th>avg_price_per_room</th>\n",
       "      <td>1.019868</td>\n",
       "    </tr>\n",
       "    <tr>\n",
       "      <th>lead_time</th>\n",
       "      <td>1.015787</td>\n",
       "    </tr>\n",
       "    <tr>\n",
       "      <th>no_of_adults</th>\n",
       "      <td>1.011714</td>\n",
       "    </tr>\n",
       "    <tr>\n",
       "      <th>no_of_week_nights</th>\n",
       "      <td>1.003558</td>\n",
       "    </tr>\n",
       "    <tr>\n",
       "      <th>arrival_date</th>\n",
       "      <td>1.001169</td>\n",
       "    </tr>\n",
       "    <tr>\n",
       "      <th>type_of_meal_plan_Meal Plan 3</th>\n",
       "      <td>1.000404</td>\n",
       "    </tr>\n",
       "    <tr>\n",
       "      <th>room_type_reserved_Room_Type 3</th>\n",
       "      <td>1.000343</td>\n",
       "    </tr>\n",
       "    <tr>\n",
       "      <th>arrival_year</th>\n",
       "      <td>0.998282</td>\n",
       "    </tr>\n",
       "    <tr>\n",
       "      <th>room_type_reserved_Room_Type 2</th>\n",
       "      <td>0.995688</td>\n",
       "    </tr>\n",
       "    <tr>\n",
       "      <th>market_segment_type_Complementary</th>\n",
       "      <td>0.991186</td>\n",
       "    </tr>\n",
       "    <tr>\n",
       "      <th>room_type_reserved_Room_Type 5</th>\n",
       "      <td>0.988816</td>\n",
       "    </tr>\n",
       "    <tr>\n",
       "      <th>room_type_reserved_Room_Type 7</th>\n",
       "      <td>0.982188</td>\n",
       "    </tr>\n",
       "    <tr>\n",
       "      <th>no_of_previous_cancellations</th>\n",
       "      <td>0.975498</td>\n",
       "    </tr>\n",
       "    <tr>\n",
       "      <th>market_segment_type_Corporate</th>\n",
       "      <td>0.968968</td>\n",
       "    </tr>\n",
       "    <tr>\n",
       "      <th>room_type_reserved_Room_Type 4</th>\n",
       "      <td>0.967486</td>\n",
       "    </tr>\n",
       "    <tr>\n",
       "      <th>repeated_guest</th>\n",
       "      <td>0.957191</td>\n",
       "    </tr>\n",
       "    <tr>\n",
       "      <th>room_type_reserved_Room_Type 6</th>\n",
       "      <td>0.955036</td>\n",
       "    </tr>\n",
       "    <tr>\n",
       "      <th>no_of_children</th>\n",
       "      <td>0.947204</td>\n",
       "    </tr>\n",
       "    <tr>\n",
       "      <th>arrival_month</th>\n",
       "      <td>0.940561</td>\n",
       "    </tr>\n",
       "    <tr>\n",
       "      <th>type_of_meal_plan_Meal Plan 2</th>\n",
       "      <td>0.909394</td>\n",
       "    </tr>\n",
       "    <tr>\n",
       "      <th>required_car_parking_space</th>\n",
       "      <td>0.869161</td>\n",
       "    </tr>\n",
       "    <tr>\n",
       "      <th>no_of_previous_bookings_not_canceled</th>\n",
       "      <td>0.807462</td>\n",
       "    </tr>\n",
       "    <tr>\n",
       "      <th>market_segment_type_Offline</th>\n",
       "      <td>0.547092</td>\n",
       "    </tr>\n",
       "    <tr>\n",
       "      <th>no_of_special_requests</th>\n",
       "      <td>0.210020</td>\n",
       "    </tr>\n",
       "  </tbody>\n",
       "</table>\n",
       "</div>"
      ],
      "text/plain": [
       "                                          odds\n",
       "market_segment_type_Online            1.876011\n",
       "type_of_meal_plan_Not Selected        1.382843\n",
       "no_of_weekend_nights                  1.198802\n",
       "avg_price_per_room                    1.019868\n",
       "lead_time                             1.015787\n",
       "no_of_adults                          1.011714\n",
       "no_of_week_nights                     1.003558\n",
       "arrival_date                          1.001169\n",
       "type_of_meal_plan_Meal Plan 3         1.000404\n",
       "room_type_reserved_Room_Type 3        1.000343\n",
       "arrival_year                          0.998282\n",
       "room_type_reserved_Room_Type 2        0.995688\n",
       "market_segment_type_Complementary     0.991186\n",
       "room_type_reserved_Room_Type 5        0.988816\n",
       "room_type_reserved_Room_Type 7        0.982188\n",
       "no_of_previous_cancellations          0.975498\n",
       "market_segment_type_Corporate         0.968968\n",
       "room_type_reserved_Room_Type 4        0.967486\n",
       "repeated_guest                        0.957191\n",
       "room_type_reserved_Room_Type 6        0.955036\n",
       "no_of_children                        0.947204\n",
       "arrival_month                         0.940561\n",
       "type_of_meal_plan_Meal Plan 2         0.909394\n",
       "required_car_parking_space            0.869161\n",
       "no_of_previous_bookings_not_canceled  0.807462\n",
       "market_segment_type_Offline           0.547092\n",
       "no_of_special_requests                0.210020"
      ]
     },
     "execution_count": 31,
     "metadata": {},
     "output_type": "execute_result"
    }
   ],
   "source": [
    "# Finding the odds\n",
    "\n",
    "# Adding the odds to a dataframe and sorting the values\n"
   ]
  },
  {
   "cell_type": "markdown",
   "id": "e902d8b6",
   "metadata": {},
   "source": [
    "**Observations:**\n",
    "\n",
    "* The feature with the highest odd coefficient is market_segment_type_Online.\n",
    "* The feature with the lowert odd coefficient is no_of_special_requests."
   ]
  },
  {
   "cell_type": "markdown",
   "id": "943c454d",
   "metadata": {},
   "source": [
    "**Now, let's check the performance of the model on the training set**"
   ]
  },
  {
   "cell_type": "markdown",
   "id": "b214ad8b",
   "metadata": {},
   "source": [
    "#### Question 7: Check the performance on the training data and write your observations from the classification report and confusion matrix for the training set (3 Marks)"
   ]
  },
  {
   "cell_type": "code",
   "execution_count": 32,
   "id": "56852d7a",
   "metadata": {},
   "outputs": [
    {
     "name": "stdout",
     "output_type": "stream",
     "text": [
      "              precision    recall  f1-score   support\n",
      "\n",
      "           0       0.82      0.89      0.86     17029\n",
      "           1       0.74      0.61      0.67      8363\n",
      "\n",
      "    accuracy                           0.80     25392\n",
      "   macro avg       0.78      0.75      0.76     25392\n",
      "weighted avg       0.79      0.80      0.79     25392\n",
      "\n"
     ]
    },
    {
     "data": {
      "image/png": "[encoded data removed]",
      "text/plain": [
       "<Figure size 576x360 with 2 Axes>"
      ]
     },
     "metadata": {
      "needs_background": "light"
     },
     "output_type": "display_data"
    }
   ],
   "source": [
    "# Checking performance on the training data\n"
   ]
  },
  {
   "cell_type": "markdown",
   "id": "be0cd0f5",
   "metadata": {},
   "source": [
    "**Reading confusion matrix (clockwise):**\n",
    "\n",
    "- **True Positive**: Predicting the customer will not cancel the booking and the customer does not cancel the booking\n",
    "- **False Negative**: Predicting the customer will cancel the booking but the customer does not cancel the booking\n",
    "- **True Negative**: Predicting the customer will cancel the booking and the customer cancels the booking\n",
    "- **False Positive**: Predicting the customer will not cancel the booking but the customer cancels the booking"
   ]
  },
  {
   "cell_type": "markdown",
   "id": "8d562db0",
   "metadata": {},
   "source": [
    "**Observations:**\n",
    "\n",
    "* Overall, the logistic regression model works better for prediction not canceled bookings, however, it is (to some degree) reliable for predictionf canceled observatons.\n",
    "* The dataset is heavily unbalanced towards the 0 label (17,029 vs 8,363)."
   ]
  },
  {
   "cell_type": "markdown",
   "id": "481bebf9",
   "metadata": {},
   "source": [
    "**Precision-Recall Curve for Logistic Regression**"
   ]
  },
  {
   "cell_type": "code",
   "execution_count": 33,
   "id": "34dbcc87",
   "metadata": {},
   "outputs": [
    {
     "data": {
      "image/png": "[encoded data removed]",
      "text/plain": [
       "<Figure size 720x504 with 1 Axes>"
      ]
     },
     "metadata": {
      "needs_background": "light"
     },
     "output_type": "display_data"
    }
   ],
   "source": [
    "# Predict_proba gives the probability of each observation belonging to each class\n",
    "\n",
    "# Plot values of precisions, recalls, and thresholds\n"
   ]
  },
  {
   "cell_type": "markdown",
   "id": "2ccfc41f",
   "metadata": {},
   "source": [
    "**Observations:**\n",
    "- We can see that **precision and recall are balanced for the threshold of about 0.4.**\n",
    "- Let's try to calculate the exact threshold where precision and recall are equal."
   ]
  },
  {
   "cell_type": "code",
   "execution_count": 34,
   "id": "d83d0136",
   "metadata": {},
   "outputs": [
    {
     "name": "stdout",
     "output_type": "stream",
     "text": [
      "0.4193398956396855\n"
     ]
    }
   ],
   "source": [
    "# Calculating the exact threshold where precision and recall are equal.\n"
   ]
  },
  {
   "cell_type": "markdown",
   "id": "0ba333ea",
   "metadata": {},
   "source": [
    "- The threshold of 0.42 would give a balanced precision and recall."
   ]
  },
  {
   "cell_type": "markdown",
   "id": "045e033c",
   "metadata": {},
   "source": [
    "#### Question 8: Compare the performance of the model on training and testing sets after changing the threshold (2 Marks)"
   ]
  },
  {
   "cell_type": "code",
   "execution_count": 35,
   "id": "829ec227",
   "metadata": {},
   "outputs": [
    {
     "name": "stdout",
     "output_type": "stream",
     "text": [
      "              precision    recall  f1-score   support\n",
      "\n",
      "           0       0.84      0.84      0.84     17029\n",
      "           1       0.68      0.68      0.68      8363\n",
      "\n",
      "    accuracy                           0.79     25392\n",
      "   macro avg       0.76      0.76      0.76     25392\n",
      "weighted avg       0.79      0.79      0.79     25392\n",
      "\n"
     ]
    },
    {
     "data": {
      "image/png": "[encoded data removed]",
      "text/plain": [
       "<Figure size 576x360 with 2 Axes>"
      ]
     },
     "metadata": {
      "needs_background": "light"
     },
     "output_type": "display_data"
    }
   ],
   "source": []
  },
  {
   "cell_type": "markdown",
   "id": "1aad3ccf",
   "metadata": {},
   "source": [
    "**Let's check the performance of the model on the test data**"
   ]
  },
  {
   "cell_type": "code",
   "execution_count": 36,
   "id": "df36a57b",
   "metadata": {},
   "outputs": [
    {
     "name": "stdout",
     "output_type": "stream",
     "text": [
      "              precision    recall  f1-score   support\n",
      "\n",
      "           0       0.85      0.85      0.85      7361\n",
      "           1       0.68      0.69      0.68      3522\n",
      "\n",
      "    accuracy                           0.79     10883\n",
      "   macro avg       0.77      0.77      0.77     10883\n",
      "weighted avg       0.79      0.79      0.79     10883\n",
      "\n"
     ]
    },
    {
     "data": {
      "image/png": "[encoded data removed]",
      "text/plain": [
       "<Figure size 576x360 with 2 Axes>"
      ]
     },
     "metadata": {
      "needs_background": "light"
     },
     "output_type": "display_data"
    }
   ],
   "source": [
    "# Checking performance on the testing data\n"
   ]
  },
  {
   "cell_type": "markdown",
   "id": "f937480b",
   "metadata": {},
   "source": [
    "**Observations:**\n",
    "\n",
    "* Overall, the logistic regression model works better for prediction not canceled bookings, however, it is (to some degree) reliable for predictionf canceled observatons.\n",
    "* The dataset is heavily unbalanced towards the 0 label (7,361 vs 3,522)."
   ]
  },
  {
   "cell_type": "markdown",
   "id": "56396ed9",
   "metadata": {},
   "source": [
    "### K - Nearest Neighbors (KNN)"
   ]
  },
  {
   "cell_type": "markdown",
   "id": "072dc07d",
   "metadata": {
    "id": "-UbHz9RuDPzc"
   },
   "source": [
    "- KNN is a distance based algorithm and all distance based algorithms are affected by the scale of the data.\n",
    "- We will scale the attributes (dataframe X defined above) before building the KNN model.\n",
    "- Then We need to identify the value of K to be used in KNN. We will use **GridSearchCV** to find the optimal value of K along with other hyperparameters."
   ]
  },
  {
   "cell_type": "code",
   "execution_count": 37,
   "id": "53331a41",
   "metadata": {
    "id": "vbm0fsfIDPzk"
   },
   "outputs": [],
   "source": [
    "# Scaling the data\n",
    "\n",
    "# Fit_transform the training data\n",
    "\n",
    "# Transform the testing data"
   ]
  },
  {
   "cell_type": "markdown",
   "id": "3d11c0d5",
   "metadata": {},
   "source": [
    "### Using GridSearchCV for find the value of K and hyperparameter tuning"
   ]
  },
  {
   "cell_type": "markdown",
   "id": "d587b1a0",
   "metadata": {},
   "source": [
    "**Points to note:**\n",
    "\n",
    "* Hyperparameter tuning is tricky in the sense that there is no direct way to calculate how a change in the hyperparameter value will reduce the loss of your model, so we usually resort to experimentation.\n",
    "* **Grid search** is a tuning technique that attempts to compute the optimum values of hyperparameters. \n",
    "* Grid search is an exhaustive search of values that tries many iterations to compute the optimum values of hyperparameters. So, **it might take up to 30 minutes for the code to run depending on the number of values and hyperparameters passed.**  \n",
    "* The hyperparameters that we are tuning are:\n",
    "\n",
    "    - **n_neighbors**: Number of neighbors to use.\n",
    "\n",
    "    - **weights={'uniform', 'distance'}**\n",
    "        - uniform : uniform weights. All points in each neighborhood are weighted equally.\n",
    "        - distance : weight points by the inverse of their distance. In this case, closer neighbors of a query point will have a greater influence than neighbors that are further away.\n",
    "\n",
    "    - **p**: When p = 1, this is equivalent to using Manhattan_distance (L1), and Euclidean_distance (L2) is used for p = 2."
   ]
  },
  {
   "cell_type": "code",
   "execution_count": 38,
   "id": "4e19916b",
   "metadata": {},
   "outputs": [
    {
     "name": "stdout",
     "output_type": "stream",
     "text": [
      "KNeighborsClassifier(n_neighbors=14, p=1, weights='distance')\n"
     ]
    }
   ],
   "source": []
  },
  {
   "cell_type": "markdown",
   "id": "28269b7a",
   "metadata": {},
   "source": [
    "#### Question 9: \n",
    "\n",
    "- **Fit the KNN model on the scaled training data using the optimal values of hyperparameters obtained from GridSearchCV (1 mark)**\n",
    "- **Check the performance of the model on the scaled training and testing sets (2 Marks)**\n",
    "- **Compare the performance and write your observations (1 Marks)**"
   ]
  },
  {
   "cell_type": "code",
   "execution_count": 39,
   "id": "da0495bb",
   "metadata": {},
   "outputs": [
    {
     "data": {
      "text/plain": [
       "KNeighborsClassifier(n_neighbors=14, p=1, weights='distance')"
      ]
     },
     "execution_count": 39,
     "metadata": {},
     "output_type": "execute_result"
    }
   ],
   "source": [
    "# Fit the KNN model on the scaled training data\n"
   ]
  },
  {
   "cell_type": "code",
   "execution_count": 40,
   "id": "91666b50",
   "metadata": {},
   "outputs": [
    {
     "name": "stdout",
     "output_type": "stream",
     "text": [
      "              precision    recall  f1-score   support\n",
      "\n",
      "           0       0.99      1.00      1.00     17029\n",
      "           1       1.00      0.99      0.99      8363\n",
      "\n",
      "    accuracy                           0.99     25392\n",
      "   macro avg       0.99      0.99      0.99     25392\n",
      "weighted avg       0.99      0.99      0.99     25392\n",
      "\n"
     ]
    },
    {
     "data": {
      "image/png": "[encoded data removed]",
      "text/plain": [
       "<Figure size 576x360 with 2 Axes>"
      ]
     },
     "metadata": {
      "needs_background": "light"
     },
     "output_type": "display_data"
    }
   ],
   "source": [
    "# Make predictions on the scaled training data and check the performance (using metrics_score function)\n"
   ]
  },
  {
   "cell_type": "code",
   "execution_count": 41,
   "id": "a0261843",
   "metadata": {},
   "outputs": [
    {
     "name": "stdout",
     "output_type": "stream",
     "text": [
      "              precision    recall  f1-score   support\n",
      "\n",
      "           0       0.90      0.92      0.91      7361\n",
      "           1       0.82      0.78      0.80      3522\n",
      "\n",
      "    accuracy                           0.87     10883\n",
      "   macro avg       0.86      0.85      0.85     10883\n",
      "weighted avg       0.87      0.87      0.87     10883\n",
      "\n"
     ]
    },
    {
     "data": {
      "image/png": "[encoded data removed]",
      "text/plain": [
       "<Figure size 576x360 with 2 Axes>"
      ]
     },
     "metadata": {
      "needs_background": "light"
     },
     "output_type": "display_data"
    }
   ],
   "source": [
    "# Make predictions on the scaled testing data and check the performance (using metrics_score function)\n"
   ]
  },
  {
   "cell_type": "markdown",
   "id": "b1e4f488",
   "metadata": {},
   "source": [
    "**Observations:**\n",
    "\n",
    "* The knn model performs very well on its training data.\n",
    "* Overall, the knn model performs well on the testing data; but works better for predicting not canceled bookings."
   ]
  },
  {
   "cell_type": "markdown",
   "id": "ddca378c",
   "metadata": {},
   "source": [
    "#### Question 10: Write the conclusion on the key factors that are driving the approval of loan and write your recommendations to the business on how can they minimize the number of cancellations. (5 Marks)"
   ]
  },
  {
   "cell_type": "markdown",
   "id": "88350bc5-37a7-4d7f-8ca5-833c9e47c815",
   "metadata": {},
   "source": [
    "* **Note: approval of loan? This excersice does not focuses on determining loan approvals.**"
   ]
  },
  {
   "cell_type": "markdown",
   "id": "b3fe28b0",
   "metadata": {},
   "source": [
    "### Conclusion:\n",
    "\n",
    "* I would recommend the business to take a look at the lead time, since it has a mid-positive correlation with the booking status.\n",
    "* The no_of_special_requests has a huge impact on the booking status, so I would recommend the business to implement a strategy on this feature."
   ]
  },
  {
   "cell_type": "markdown",
   "id": "81b13b88",
   "metadata": {
    "id": "virgin-polls"
   },
   "source": [
    "### Recommendations:\n",
    "\n",
    "* I would recommend the business to use the knn model over the logistic regression model for when making predictions bookings cancellations.\n",
    "* I would suggest the business to overbook the month of October since it is the month with the highest chances of getting booking cancellations.\n",
    "* I would suggest the business to implement a marketing strategy on market segment types other tan online and offline."
   ]
  }
 ],
 "metadata": {
  "colab": {
   "name": "Solution Notebook - Project_SLC_DSBA_StarHotels.ipynb",
   "provenance": []
  },
  "kernelspec": {
   "display_name": "Python 3 (ipykernel)",
   "language": "python",
   "name": "python3"
  },
  "language_info": {
   "codemirror_mode": {
    "name": "ipython",
    "version": 3
   },
   "file_extension": ".py",
   "mimetype": "text/x-python",
   "name": "python",
   "nbconvert_exporter": "python",
   "pygments_lexer": "ipython3",
   "version": "3.9.12"
  }
 },
 "nbformat": 4,
 "nbformat_minor": 5
}
